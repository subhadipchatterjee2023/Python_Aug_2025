{
  "nbformat": 4,
  "nbformat_minor": 0,
  "metadata": {
    "colab": {
      "provenance": [],
      "authorship_tag": "ABX9TyPFIIVL2Wl64r1ytbLGiSph",
      "include_colab_link": true
    },
    "kernelspec": {
      "name": "python3",
      "display_name": "Python 3"
    },
    "language_info": {
      "name": "python"
    }
  },
  "cells": [
    {
      "cell_type": "markdown",
      "metadata": {
        "id": "view-in-github",
        "colab_type": "text"
      },
      "source": [
        "<a href=\"https://colab.research.google.com/github/subhadipchatterjee2023/Python_Aug_2025/blob/main/Python_Aug_2025.ipynb\" target=\"_parent\"><img src=\"https://colab.research.google.com/assets/colab-badge.svg\" alt=\"Open In Colab\"/></a>"
      ]
    },
    {
      "cell_type": "code",
      "source": [
        "print(\"Hello World\")"
      ],
      "metadata": {
        "colab": {
          "base_uri": "https://localhost:8080/"
        },
        "id": "dl3h7XfnCpNS",
        "outputId": "fc75c17f-dbe9-40cd-edd4-7884efe2f533"
      },
      "execution_count": null,
      "outputs": [
        {
          "output_type": "stream",
          "name": "stdout",
          "text": [
            "Hello World\n"
          ]
        }
      ]
    },
    {
      "cell_type": "markdown",
      "source": [
        "**Welcome Everyone to the Python Bootcamp Course**"
      ],
      "metadata": {
        "id": "odQnqTBnDorY"
      }
    },
    {
      "cell_type": "code",
      "source": [
        "print(\"Hello World\")\n",
        "print(\"Hi\")"
      ],
      "metadata": {
        "colab": {
          "base_uri": "https://localhost:8080/"
        },
        "id": "mlIQq6AjDKfw",
        "outputId": "99aa6354-cd8e-4cf7-d688-66b623a9d488"
      },
      "execution_count": null,
      "outputs": [
        {
          "output_type": "stream",
          "name": "stdout",
          "text": [
            "Hello World\n",
            "Hi\n"
          ]
        }
      ]
    },
    {
      "cell_type": "code",
      "source": [
        "x = 1000\n",
        "y = 100.97\n",
        "z = \"Subhadip\"\n",
        "w = True\n",
        "print(type(x))\n",
        "print(type(y))\n",
        "print(type(z))\n",
        "print(type(w))"
      ],
      "metadata": {
        "colab": {
          "base_uri": "https://localhost:8080/"
        },
        "id": "yRmfBX62DLg4",
        "outputId": "40d26bf9-e01f-4393-f5c6-98e695df5f9e"
      },
      "execution_count": null,
      "outputs": [
        {
          "output_type": "stream",
          "name": "stdout",
          "text": [
            "<class 'int'>\n",
            "<class 'float'>\n",
            "<class 'str'>\n",
            "<class 'bool'>\n"
          ]
        }
      ]
    },
    {
      "cell_type": "code",
      "source": [
        "x = 10\n",
        "y = 20\n",
        "z = x + y\n",
        "print(z)"
      ],
      "metadata": {
        "colab": {
          "base_uri": "https://localhost:8080/"
        },
        "id": "numY7pMPDLvo",
        "outputId": "1884c51b-1026-4aab-b966-dc969e32285a"
      },
      "execution_count": null,
      "outputs": [
        {
          "output_type": "stream",
          "name": "stdout",
          "text": [
            "30\n"
          ]
        }
      ]
    },
    {
      "cell_type": "code",
      "source": [
        "## Imagine that you are building an application for the grocery store. At the billing counter,\n",
        "## we need a calculator (sum calculator)\n",
        "## it will give you 3 items prices and you have to tell the total amount to pay\n",
        "## Example: item1 = 100, item2 = 200, item3 = 300, Amount to pay 600\n",
        "\n",
        "item1 = 100\n",
        "item2 = 200\n",
        "item3 = 300\n",
        "total = item1 + item2 + item3\n",
        "print(\"total amount is: \", total)"
      ],
      "metadata": {
        "colab": {
          "base_uri": "https://localhost:8080/"
        },
        "id": "y6p6yeBJDMAo",
        "outputId": "5b2e7727-25d5-472f-9c59-db8ac36d9359"
      },
      "execution_count": null,
      "outputs": [
        {
          "output_type": "stream",
          "name": "stdout",
          "text": [
            "total amount is:  600\n"
          ]
        }
      ]
    },
    {
      "cell_type": "code",
      "source": [
        "## Imaging you are building the EMI calculator.\n",
        "## You have to tell the outstanding amount is equal to loan amount taken and out of that\n",
        "## you paid something and then the leftover amount remains is outstanding amount\n",
        "\n",
        "## Example: Loan Amount = 100000, Paid so far = 20000, outstanding amount = 80000\n",
        "\n",
        "loan_amount = int(input(\"Enter the loan amnount: \"))\n",
        "paid_so_far = int(input(\"Enter the amount paid so far: \"))\n",
        "outstanding_amount = loan_amount - paid_so_far\n",
        "print(\"Outstanding amount is:\", outstanding_amount)"
      ],
      "metadata": {
        "colab": {
          "base_uri": "https://localhost:8080/"
        },
        "id": "h82e_oSYDMJg",
        "outputId": "2e2f42ea-808f-49b1-f583-80a6790f9387"
      },
      "execution_count": null,
      "outputs": [
        {
          "output_type": "stream",
          "name": "stdout",
          "text": [
            "Enter the loan amnount: 100000\n",
            "Enter the amount paid so far: 20000\n",
            "Outstanding amount is: 80000\n"
          ]
        }
      ]
    },
    {
      "cell_type": "code",
      "source": [
        "## Imagine that you are building a credit risk application\n",
        "## You need to check the outstanding amount (loan taken - already paid) and check this:\n",
        "## If the outstanding amount is above 5 lacs then this customer is high risk account\n",
        "## and if the outstanding amount is below or equal to 5 lacs then moderate risk.\n",
        "\n",
        "loan_taken = int(input(\"Enter the loan amount: \"))\n",
        "already_paid = int(input(\"Enter the amount already paid: \"))\n",
        "outstanding_amount = loan_taken - already_paid\n",
        "if outstanding_amount >= 500000:\n",
        "    print(\"High Risk Account\")\n",
        "else:\n",
        "    print(\"Moderate Risk\")"
      ],
      "metadata": {
        "colab": {
          "base_uri": "https://localhost:8080/"
        },
        "id": "T2LE3VymDMS4",
        "outputId": "3e153578-38c5-46fb-d01a-3f2353cb5904"
      },
      "execution_count": null,
      "outputs": [
        {
          "output_type": "stream",
          "name": "stdout",
          "text": [
            "Enter the loan amount: 520000\n",
            "Enter the amount already paid: 20000\n",
            "High Risk Account\n"
          ]
        }
      ]
    },
    {
      "cell_type": "code",
      "source": [
        "# Imagine you are a grocery operator, whenever you are doing the bill\n",
        "# calculate the total amount based on the items purchased, and for all the total amount above 500 you give\n",
        "# 10% discount and any amount below that 5% discount\n",
        "# finally tell to customer how much to pay\n",
        "\n",
        "item1 = int(input(\"Enter the price of item1: \"))\n",
        "item2 = int(input(\"Enter the price of item2: \"))\n",
        "item3 = int(input(\"Enter the price of item3: \"))\n",
        "total = item1 + item2 + item3\n",
        "if total >= 500:\n",
        "    total1 = total - (total * 0.1)\n",
        "    print(\"Total amount to pay is: \", total1)\n",
        "else:\n",
        "    total2 = total - (total * 0.05)\n",
        "    print(\"Total amount to pay is: \", total2)"
      ],
      "metadata": {
        "colab": {
          "base_uri": "https://localhost:8080/"
        },
        "id": "N6hbbKMdDMaI",
        "outputId": "6b9a5459-aad1-4475-def6-3fcc5c04a6a6"
      },
      "execution_count": null,
      "outputs": [
        {
          "output_type": "stream",
          "name": "stdout",
          "text": [
            "Enter the price of item1: 5000\n",
            "Enter the price of item2: 6000\n",
            "Enter the price of item3: 5000\n",
            "Total amount to pay is:  14400.0\n"
          ]
        }
      ]
    },
    {
      "cell_type": "code",
      "source": [
        "from re import sub\n",
        "## You have to calculate how much percentage u got in exam\n",
        "## 5 subject score\n",
        "\n",
        "sub1 = int(input(\"Enter the score of sub1: \"))\n",
        "sub2 = int(input(\"Enter the score of sub2: \"))\n",
        "sub3 = int(input(\"Enter the score of sub3: \"))\n",
        "sub4 = int(input(\"Enter the score of sub4: \"))\n",
        "sub5 = int(input(\"Enter the score of sub5: \"))\n",
        "total = sub1 + sub2 + sub3+ sub4+ sub5\n",
        "perc = (total / 500) * 100\n",
        "print(\"Total is: \", total)\n",
        "print(\"Percentage is: \", perc)"
      ],
      "metadata": {
        "colab": {
          "base_uri": "https://localhost:8080/"
        },
        "id": "RPC_6_7sDMgw",
        "outputId": "e5445dda-e0d4-4fa5-d11d-ae34251db01e"
      },
      "execution_count": null,
      "outputs": [
        {
          "output_type": "stream",
          "name": "stdout",
          "text": [
            "Enter the score of sub1: 80\n",
            "Enter the score of sub2: 80\n",
            "Enter the score of sub3: 80\n",
            "Enter the score of sub4: 80\n",
            "Enter the score of sub5: 80\n",
            "Total is:  400\n",
            "Percentage is:  80.0\n"
          ]
        }
      ]
    },
    {
      "cell_type": "code",
      "source": [
        "# student to calculate the grade\n",
        "# above 90% you got grade A\n",
        "# 70 to 90 grade B\n",
        "# Below 70 grade C\n",
        "\n",
        "marks = int(input(\"Enter the marks: \"))\n",
        "if marks < 0 or marks > 100:\n",
        "  print(\"Invalid Marks\")\n",
        "elif marks >= 90 and marks < 100:\n",
        "    print(\"Grade A\")\n",
        "elif marks >= 70 and marks < 90:\n",
        "    print(\"Grade B\")\n",
        "else:\n",
        "    print(\"Grade C\")"
      ],
      "metadata": {
        "colab": {
          "base_uri": "https://localhost:8080/"
        },
        "id": "OFKm4zqCDMnI",
        "outputId": "05015a23-621b-4980-8d8b-a753ad9052e1"
      },
      "execution_count": null,
      "outputs": [
        {
          "output_type": "stream",
          "name": "stdout",
          "text": [
            "Enter the marks: -1\n",
            "Invalid Marks\n"
          ]
        }
      ]
    },
    {
      "cell_type": "code",
      "source": [
        "# Cricinfo website IND vs END match\n",
        "# to create a prediction calculator: if the number of runs needed is more than the number of balls the probability of win is very low\n",
        "# but if the number runs is less than the balls then probability of win is very high\n",
        "\n",
        "number_of_runs_needed = int(input(\"Enter the number of runs needed: \"))\n",
        "number_of_balls = int(input(\"Enter the number of balls: \"))\n",
        "if number_of_runs_needed > number_of_balls:\n",
        "    print(\"Probability of win is very low\")\n",
        "else:\n",
        "    print(\"Probability of win is very high\")"
      ],
      "metadata": {
        "colab": {
          "base_uri": "https://localhost:8080/"
        },
        "id": "yNKDi5vqDMtX",
        "outputId": "481cf542-d77e-4722-9d07-0a0c17753ec3"
      },
      "execution_count": null,
      "outputs": [
        {
          "output_type": "stream",
          "name": "stdout",
          "text": [
            "Enter the number of runs needed: 50\n",
            "Enter the number of balls: 56\n",
            "Probability of win is very high\n"
          ]
        }
      ]
    },
    {
      "cell_type": "code",
      "source": [
        "## Question 1: A store sells apples at $5 each and bananas at $3 each. Declare variables apples_price and bananas_price with appropriate values.\n",
        "# Calculate the total cost for purchasing 10 apples and 7 bananas and store the result in total_cost.\n",
        "\n",
        "apples_price = 5\n",
        "bananas_price = 3\n",
        "total_cost = 10 * apples_price + 7 * bananas_price\n",
        "print(\"Total cost is: \", total_cost)"
      ],
      "metadata": {
        "colab": {
          "base_uri": "https://localhost:8080/"
        },
        "id": "KSP8o_0b1tYb",
        "outputId": "c6a95412-0340-4c40-f4aa-0f3358f2e636"
      },
      "execution_count": null,
      "outputs": [
        {
          "output_type": "stream",
          "name": "stdout",
          "text": [
            "Total cost is:  71\n"
          ]
        }
      ]
    },
    {
      "cell_type": "code",
      "source": [
        "# Question 2: You have a monthly salary of $4,000 and expenses that include rent ($1,200), groceries ($300), and miscellaneous ($500).\n",
        "# Calculate the amount left after expenses and store it in a variable named remaining_balance.\n",
        "\n",
        "monthly_salary = 4000\n",
        "rent = 1200\n",
        "groceries = 300\n",
        "miscellaneous = 500\n",
        "total_expenses = rent + groceries + miscellaneous\n",
        "remaining_balance = monthly_salary - total_expenses\n",
        "print(\"Remaining Balance is: \", remaining_balance)"
      ],
      "metadata": {
        "colab": {
          "base_uri": "https://localhost:8080/"
        },
        "id": "rXI8iGk22Pjz",
        "outputId": "5d1031ec-e66f-4fe3-b576-e73e5e9feb95"
      },
      "execution_count": null,
      "outputs": [
        {
          "output_type": "stream",
          "name": "stdout",
          "text": [
            "Remaining Balance is:  2000\n"
          ]
        }
      ]
    },
    {
      "cell_type": "code",
      "source": [
        "# Question 3: A team won 28 matches this season, and last season they won 18 matches.\n",
        "# Declare variables current_season_wins and last_season_wins with respective values. Calculate the increase in matches won and store it in win_difference.\n",
        "\n",
        "current_season_wins = 28\n",
        "last_season_wins = 18\n",
        "win_difference = (current_season_wins - last_season_wins)\n",
        "print(\"Win Difference is: \", win_difference)"
      ],
      "metadata": {
        "colab": {
          "base_uri": "https://localhost:8080/"
        },
        "id": "ht4YCB0a2UH0",
        "outputId": "b477ccb4-e4ab-41d6-ba99-682920f6865a"
      },
      "execution_count": null,
      "outputs": [
        {
          "output_type": "stream",
          "name": "stdout",
          "text": [
            "Win Difference is:  10\n"
          ]
        }
      ]
    },
    {
      "cell_type": "code",
      "source": [
        "# Question 4: A travel company charges $250 per person for a weekend trip and gives a $100 group discount for every 5 people.\n",
        "# If a group has 15 people Calculate the total cost for the group and store it in group_trip_cost.\n",
        "\n",
        "per_person_charges = 250\n",
        "group_discount = 100\n",
        "person_discount = 20\n",
        "total_group_cost = 15 // 5 * person_discount + per_person_charges\n",
        "print(\"Total Cost for the group: \", total_group_cost)"
      ],
      "metadata": {
        "colab": {
          "base_uri": "https://localhost:8080/"
        },
        "id": "YMhmenar2YyB",
        "outputId": "8a696b04-d107-4dc9-e439-380eb22a1407"
      },
      "execution_count": null,
      "outputs": [
        {
          "output_type": "stream",
          "name": "stdout",
          "text": [
            "Total Cost for the group:  310\n"
          ]
        }
      ]
    },
    {
      "cell_type": "code",
      "source": [
        "# Question 5: An item costs $120, and there is a discount of 15%. Calculate the final price after the discount and store it in discounted_price.\n",
        "\n",
        "item_price = 120\n",
        "discount = 15\n",
        "discounted_price = item_price - (item_price * discount / 100)\n",
        "print(\"Discounted Price is: \", discounted_price)"
      ],
      "metadata": {
        "colab": {
          "base_uri": "https://localhost:8080/"
        },
        "id": "vW8ZhLXm2ctO",
        "outputId": "958f5b16-830f-4d0c-d7ea-938f848fb673"
      },
      "execution_count": null,
      "outputs": [
        {
          "output_type": "stream",
          "name": "stdout",
          "text": [
            "Discounted Price is:  102.0\n"
          ]
        }
      ]
    },
    {
      "cell_type": "code",
      "source": [
        "# Question 6: A company produces 500 units daily and sells each unit for $20. Declare variables units_per_day and price_per_unit.\n",
        "# Calculate the monthly revenue assuming a 30-day month and store it in monthly_revenue.\n",
        "\n",
        "units_per_day = 500\n",
        "price_per_unit = 20\n",
        "monthly_revenue = units_per_day * price_per_unit * 30\n",
        "print(\"Monthly Revenue is: \", monthly_revenue)"
      ],
      "metadata": {
        "colab": {
          "base_uri": "https://localhost:8080/"
        },
        "id": "EMRaOtKR2fP8",
        "outputId": "be8bbbd8-5e65-4097-b372-f2bdba458de6"
      },
      "execution_count": null,
      "outputs": [
        {
          "output_type": "stream",
          "name": "stdout",
          "text": [
            "Monthly Revenue is:  300000\n"
          ]
        }
      ]
    },
    {
      "cell_type": "code",
      "source": [
        "# Question 7: A farmer grows wheat on a 150-acre farm and yields 3,000 kg per acre.\n",
        "# Declare variables acreage and yield_per_acre. Calculate the total wheat production and store it in total_production.\n",
        "\n",
        "acreage = 150\n",
        "yield_per_acre = 3000\n",
        "total_prodcution = acreage * yield_per_acre\n",
        "print(\"Total Production is: \", total_prodcution)"
      ],
      "metadata": {
        "colab": {
          "base_uri": "https://localhost:8080/"
        },
        "id": "0fo4igAe2jYe",
        "outputId": "393157a1-b6f4-419b-d115-01754883982f"
      },
      "execution_count": null,
      "outputs": [
        {
          "output_type": "stream",
          "name": "stdout",
          "text": [
            "Total Production is:  450000\n"
          ]
        }
      ]
    },
    {
      "cell_type": "code",
      "source": [
        "# Question 8: A bakery makes $2 profit on each loaf of bread sold. If they sell 200 loaves in a day, declare variables profit_per_loaf and loaves_sold.\n",
        "# Calculate the daily profit and store it in daily_profit.\n",
        "\n",
        "profit_per_loaf = 2\n",
        "loaves_sold = 200\n",
        "daily_profit = profit_per_loaf * loaves_sold\n",
        "print(\"Daily Profit is: \", daily_profit)"
      ],
      "metadata": {
        "colab": {
          "base_uri": "https://localhost:8080/"
        },
        "id": "LeAV7Wam2oi0",
        "outputId": "ff653b8d-963b-4867-f735-c330eff7dd32"
      },
      "execution_count": null,
      "outputs": [
        {
          "output_type": "stream",
          "name": "stdout",
          "text": [
            "Daily Profit is:  400\n"
          ]
        }
      ]
    },
    {
      "cell_type": "code",
      "source": [
        "# Question 9: You are planning an event for 120 attendees. The venue rental is $800, and catering costs $25 per person. Declare variables venue_cost, catering_cost_per_person, and number_of_attendees.\n",
        "# Calculate the total cost of the event and store it in event_total_cost.\n",
        "\n",
        "venue_cost = 800\n",
        "catering_cost_per_person = 25\n",
        "number_of_attendees = 120\n",
        "event_total_cost = venue_cost + catering_cost_per_person * number_of_attendees\n",
        "print(\"Event Total Cost is: \", event_total_cost)"
      ],
      "metadata": {
        "colab": {
          "base_uri": "https://localhost:8080/"
        },
        "id": "szClj9Ra2rBM",
        "outputId": "f13662db-e7ef-4144-f5d8-5168a35c3e17"
      },
      "execution_count": null,
      "outputs": [
        {
          "output_type": "stream",
          "name": "stdout",
          "text": [
            "Event Total Cost is:  3800\n"
          ]
        }
      ]
    },
    {
      "cell_type": "code",
      "source": [
        "# Question 10: A school's annual fee per student is $1,500, and they provide a 5% sibling discount.\n",
        "# Declare variables annual_fee and sibling_discount_percent. Calculate the discounted fee for one sibling and store it in sibling_discounted_fee.\n",
        "\n",
        "annual_fee = 1500\n",
        "sibling_discount = 5\n",
        "discounted_fee = annual_fee - (annual_fee * sibling_discount / 100)\n",
        "print(\"Discounted Fee is: \", discounted_fee)"
      ],
      "metadata": {
        "colab": {
          "base_uri": "https://localhost:8080/"
        },
        "id": "VlSaYQCB2uzX",
        "outputId": "5b98cce0-b0b7-43a6-e113-9d24de592a5b"
      },
      "execution_count": null,
      "outputs": [
        {
          "output_type": "stream",
          "name": "stdout",
          "text": [
            "Discounted Fee is:  1425.0\n"
          ]
        }
      ]
    },
    {
      "cell_type": "code",
      "source": [
        "# Imagine you are building a weather.com portal\n",
        "# now on this portal you have been asked to add the functionality as follows:\n",
        "# for any temperature user entered, you need to say whether it is high, low or moderate temperature\n",
        "# any temp above 40C considered to be high\n",
        "# any temp lower than 10C considered to be low\n",
        "# example :if user entered 50C\n",
        "\n",
        "temp = int(input(\"Enter the temperature: \"))\n",
        "if temp >= 40:\n",
        "  print(\"High Temperature\")\n",
        "elif temp <= 10:\n",
        "  print(\"Low Temperature\")\n",
        "else:\n",
        "  print(\"Moderate Temperature\")"
      ],
      "metadata": {
        "colab": {
          "base_uri": "https://localhost:8080/"
        },
        "id": "6uifb_1nIJjy",
        "outputId": "04dfa67b-cca6-48f0-a5c9-7ede4b3d84da"
      },
      "execution_count": null,
      "outputs": [
        {
          "output_type": "stream",
          "name": "stdout",
          "text": [
            "Enter the temperature: 6\n",
            "Low Temperature\n"
          ]
        }
      ]
    },
    {
      "cell_type": "code",
      "source": [
        "# Imagine you are going for a movie with your family. You, Spouse and your kid who is 9 yrs old.\n",
        "# Tuesday offer in PVR, for adults who is above 18 yrs ticket price is 100 rs and for kids who are below 18 yrs the ticket price is 50 rs\n",
        "# how much money have to pay\n",
        "\n",
        "husband_age = int(input(\"Enter Husband's Age: \"))\n",
        "wife_age = int(input(\"Enter Wife's Age: \"))\n",
        "kid_age = int(input(\"Enter Kid's Age: \"))\n",
        "amount = 0\n",
        "if husband_age > 18:\n",
        "  amount = amount + 100\n",
        "else:\n",
        "  amount = amount + 50\n",
        "if wife_age > 18:\n",
        "  amount = amount + 100\n",
        "else:\n",
        "  amount = amount + 50\n",
        "if kid_age > 18:\n",
        "  amount = amount + 100\n",
        "else:\n",
        "  amount = amount + 50\n",
        "print(\"Total amount to pay is: \", amount)"
      ],
      "metadata": {
        "colab": {
          "base_uri": "https://localhost:8080/"
        },
        "id": "ysb638iwKdMD",
        "outputId": "af7f9ad8-7719-459d-e5fd-f0a6c937edd3"
      },
      "execution_count": null,
      "outputs": [
        {
          "output_type": "stream",
          "name": "stdout",
          "text": [
            "Enter Husband's Age: 20\n",
            "Enter Wife's Age: 19\n",
            "Enter Kid's Age: 5\n",
            "Total amount to pay is:  250\n"
          ]
        }
      ]
    },
    {
      "cell_type": "code",
      "source": [
        "# You are developer at Zomato, they are launching a new offer.\n",
        "# If you order above 500 rs you will get 20% off\n",
        "# if order is below 500 rs you will get 10% off\n",
        "# also there is another special offer, if you order for above 500 and your delivery distance is below 10 kms then you get additional 5% off\n",
        "# and if it is above 10 kms then additional 2% off\n",
        "# above offer for the normal user but if you are within the 10 KM radius and you are senior citizen (above 60 yrs old) then special offer of 5% extra.\n",
        "# if order is below 500 and if you are below 25 yrs then we give you 5% extra off.\n",
        "# tell me how much I have to pay example: I ordered for 1000 rs and my shipping distance is 5 kms and my age is 65 yrs.\n",
        "\n",
        "order_amount = int(input(\"Enter the order amount: \"))\n",
        "shipping_distance = int(input(\"Enter the shipping distance: \"))\n",
        "age = int(input(\"Enter the age: \"))\n",
        "discount = 0\n",
        "if order_amount > 500:\n",
        "  discount = 20\n",
        "  if shipping_distance < 10:\n",
        "    discount = discount + 5\n",
        "    if age > 60:\n",
        "      discount = discount + 5\n",
        "  else:\n",
        "    discount = discount + 2\n",
        "else:\n",
        "  discount = 10\n",
        "  if age < 25:\n",
        "    discount = discount + 5\n",
        "\n",
        "discount_amount = order_amount * discount / 100\n",
        "final_amount = order_amount - discount_amount\n",
        "print(\"Final Amount to pay is: \", final_amount)"
      ],
      "metadata": {
        "colab": {
          "base_uri": "https://localhost:8080/"
        },
        "id": "LZipc7G1NZlx",
        "outputId": "9deac7f7-5dd0-4ac3-be22-0508b4900e21"
      },
      "execution_count": null,
      "outputs": [
        {
          "output_type": "stream",
          "name": "stdout",
          "text": [
            "Enter the order amount: 400\n",
            "Enter the shipping distance: 5\n",
            "Enter the age: 20\n",
            "Final Amount to pay is:  340.0\n"
          ]
        }
      ]
    },
    {
      "cell_type": "code",
      "source": [
        "# Imagine that you are working for TCS and its the appraisal time.\n",
        "# for the appraisal they follow the below rule\n",
        "# rating 4.5+ 10% hike\n",
        "# rating 3+ to 4.5 then 7% hike\n",
        "# rating 2 to 3 then 3% hike\n",
        "# below 2 no hikes\n",
        "# hike calculator\n",
        "# example ctc: 1000000, rating 4.7\n",
        "# example ctc: 1000000, rating 2.5\n",
        "\n",
        "ctc = int(input(\"Enter the CTC: \"))\n",
        "rating = float(input(\"Enter the rating: \"))\n",
        "hike = 0\n",
        "if rating > 4.5:\n",
        "  hike = 10\n",
        "elif rating >= 3 and rating <= 4.5:\n",
        "  hike = 7\n",
        "elif rating >= 2 and rating < 3:\n",
        "  hike = 3\n",
        "else:\n",
        "  hike = 0\n",
        "hike_amount = ctc * hike / 100\n",
        "final_ctc = ctc + hike_amount\n",
        "print(\"Hike Amount: \", hike_amount)\n",
        "print(\"Final CTC is: \", final_ctc)"
      ],
      "metadata": {
        "colab": {
          "base_uri": "https://localhost:8080/"
        },
        "id": "M4AP7tbDWjYC",
        "outputId": "1ddfd919-08f0-44a7-dab8-8deac91c9303"
      },
      "execution_count": null,
      "outputs": [
        {
          "output_type": "stream",
          "name": "stdout",
          "text": [
            "Enter the CTC: 1000000\n",
            "Enter the rating: 2.5\n",
            "Hike Amount:  30000.0\n",
            "Final CTC is:  1030000.0\n"
          ]
        }
      ]
    },
    {
      "cell_type": "code",
      "source": [
        "# Q1:\n",
        "# Movie Ticket Pricing\n",
        "# Scenario: A cinema has different ticket prices based on age.\n",
        "# Task: Write a program that asks for the customer's age and prints the ticket price.\n",
        "\n",
        "# Child (0-12): ₹100\n",
        "# Teen (13-17): ₹150\n",
        "# Adult (18-59): ₹200\n",
        "# Senior (60+): ₹120\n",
        "\n",
        "customers_age = int(input(\"Enter customer's age: \"))\n",
        "if customers_age >= 0 and customers_age <= 12:\n",
        "  print(\"Ticket Price: ₹100\")\n",
        "elif customers_age >= 13 and customers_age <= 17:\n",
        "  print(\"Ticket Price: ₹150\")\n",
        "elif customers_age >= 18 and customers_age <= 59:\n",
        "  print(\"Ticket Price: ₹200\")\n",
        "else:\n",
        "  print(\"Ticket Price: ₹120\")"
      ],
      "metadata": {
        "colab": {
          "base_uri": "https://localhost:8080/"
        },
        "id": "XSvPn3cR0O1B",
        "outputId": "0f48a593-77fb-4b30-f6dd-62b5ad7e3b4c"
      },
      "execution_count": null,
      "outputs": [
        {
          "output_type": "stream",
          "name": "stdout",
          "text": [
            "Enter customer's age: 61\n",
            "Ticket Price: ₹120\n"
          ]
        }
      ]
    },
    {
      "cell_type": "code",
      "source": [
        "# Q2:\n",
        "# Simple Weather Advisory\n",
        "# Scenario: A local weather station provides basic weather advisories.\n",
        "# Task: Create a program that takes the current temperature (in Celsius) and provides an appropriate advisory.\n",
        "\n",
        "# Below 0: \"It's freezing! Wear warm layers.\"\n",
        "# 0-10: \"It's very cold. Wear a heavy jacket.\"\n",
        "# 11-20: \"It's cool. A light jacket would be good.\"\n",
        "# 21-30: \"It's pleasant. Enjoy the weather!\"\n",
        "# Above 30: \"It's hot. Stay hydrated!\"\n",
        "\n",
        "current_temp = int(input(\"Enter the current temperature: \"))\n",
        "if current_temp < 0:\n",
        "  print(\"It's freezing! Wear warm layers.\")\n",
        "elif current_temp >= 0 and current_temp <= 10:\n",
        "  print(\"It's very cold. Wear a heavy jacket.\")\n",
        "elif current_temp >= 11 and current_temp <= 20:\n",
        "  print(\"It's cool. A light jacket would be good\")\n",
        "elif current_temp >= 21 and current_temp <= 30:\n",
        "  print(\"It's pleasant. Enjoy the weather!\")\n",
        "else:\n",
        "  print(\"It's hot. Stay hydrated!\")"
      ],
      "metadata": {
        "colab": {
          "base_uri": "https://localhost:8080/"
        },
        "id": "GFXk3VjS0SmV",
        "outputId": "840d1f67-956d-4344-89ad-0aae468d4cdc"
      },
      "execution_count": null,
      "outputs": [
        {
          "output_type": "stream",
          "name": "stdout",
          "text": [
            "Enter the current temperature: 4\n",
            "It's very cold. Wear a heavy jacket.\n"
          ]
        }
      ]
    },
    {
      "cell_type": "code",
      "source": [
        "# Q3:\n",
        "# Restaurant Tip Calculator\n",
        "# Scenario: A restaurant suggests tips based on service quality.\n",
        "# Task: Write a program that asks for the bill amount and service quality (Excellent, Good, Fair, Poor) and calculates the suggested tip.\n",
        "\n",
        "# Excellent: 20% tip\n",
        "# Good: 15% tip\n",
        "# Fair: 10% tip\n",
        "# Poor: 5% tip\n",
        "\n",
        "bill_amount = int(input(\"Enter the bill amount: \"))\n",
        "service_quality = input(\"Enter the service quality: \")\n",
        "if service_quality == \"Excellent\":\n",
        "  tip = 20\n",
        "elif service_quality == \"Good\":\n",
        "  tip = 15\n",
        "elif service_quality == \"Fair\":\n",
        "  tip = 10\n",
        "else:\n",
        "  tip = 5\n",
        "tip_amount = bill_amount * tip / 100\n",
        "final_amount = bill_amount + tip_amount\n",
        "print(final_amount)"
      ],
      "metadata": {
        "colab": {
          "base_uri": "https://localhost:8080/"
        },
        "id": "qa9SySce0bj6",
        "outputId": "12dd7d11-c87d-42b1-e866-3c277d0f614f"
      },
      "execution_count": null,
      "outputs": [
        {
          "output_type": "stream",
          "name": "stdout",
          "text": [
            "Enter the bill amount: 100\n",
            "Enter the service quality: Fair\n",
            "110.0\n"
          ]
        }
      ]
    },
    {
      "cell_type": "code",
      "source": [
        "# Q4:\n",
        "# Blood Donation Eligibility\n",
        "# Scenario: A blood donation camp screens donors based on basic criteria.\n",
        "# Task: Write a program that determines if a person is eligible to donate blood based on:\n",
        "\n",
        "# Age (must be 18-65)\n",
        "# Weight (must be above 50 kg)\n",
        "# Last donation (must be more than 3 months ago)\n",
        "\n",
        "age = int(input(\"Enter the age: \"))\n",
        "weight = int(input(\"Enter the weight: \"))\n",
        "last_donation = input(\"Enter the last donation: \")\n",
        "if age >= 18 and age <=65 and weight > 50 and last_donation > \"3 months ago\":\n",
        "  print(\"Eligible to donate blood\")\n",
        "else:\n",
        "  print(\"Not Eligible to donate blood\")"
      ],
      "metadata": {
        "colab": {
          "base_uri": "https://localhost:8080/"
        },
        "id": "29thUd1b0eJa",
        "outputId": "2ee6e6bb-6a6c-4f6c-f3a1-1b25d3f26347"
      },
      "execution_count": null,
      "outputs": [
        {
          "output_type": "stream",
          "name": "stdout",
          "text": [
            "Enter the age: 20\n",
            "Enter the weight: 51\n",
            "Enter the last donation: 6 months ago\n",
            "Eligible to donate blood\n"
          ]
        }
      ]
    },
    {
      "cell_type": "code",
      "source": [
        "# Q5:\n",
        "# Simple Car Insurance Premium Estimator\n",
        "# Scenario: A car insurance company determines premiums based on driver's age and car type.\n",
        "# Task: Create a program that estimates the premium:\n",
        "\n",
        "# Age below 25: High risk\n",
        "# Age 25-40: Medium risk\n",
        "# Age above 40: Low risk\n",
        "# Car types: Economy, Sedan, Luxury (increasing premiums in that order)\n",
        "\n",
        "driver_age = int(input(\"Enter the driver's age: \"))\n",
        "car_type = input(\"Enter the car type: \")\n",
        "if driver_age < 25:\n",
        "  risk = \"High Risk\"\n",
        "elif driver_age >= 35 and driver_age <= 40:\n",
        "  risk = \"Medium Risk\"\n",
        "else:\n",
        "  risk = \"Low Risk\"\n",
        "\n",
        "if car_type == \"Economy\":\n",
        "  premium = 5000\n",
        "elif car_type == \"Sedan\":\n",
        "  premium = 10000\n",
        "elif car_type == \"Luxury\":\n",
        "  premium = 15000\n",
        "\n",
        "print(\"Risk: \", risk)\n",
        "print(\"Premium: \", premium)"
      ],
      "metadata": {
        "colab": {
          "base_uri": "https://localhost:8080/"
        },
        "id": "rTbXz5Iq0icJ",
        "outputId": "15a100e8-e3e2-4526-c1d9-90ff99f7c75b"
      },
      "execution_count": null,
      "outputs": [
        {
          "output_type": "stream",
          "name": "stdout",
          "text": [
            "Enter the driver's age: 36\n",
            "Enter the car type: Luxury\n",
            "Risk:  Medium Risk\n",
            "Premium:  15000\n"
          ]
        }
      ]
    },
    {
      "cell_type": "code",
      "source": [
        "# Q6:\n",
        "# College Admission Predictor\n",
        "# Scenario: A college has different admission criteria based on exam scores.\n",
        "# Task: Write a program that predicts admission chances based on exam score:\n",
        "\n",
        "# Below 60: \"Admission unlikely\"\n",
        "# 60-79: \"Admission possible\"\n",
        "# 80-89: \"Admission probable\"\n",
        "# 90 and above: \"Admission assured\"\n",
        "\n",
        "admission_score = int(input(\"Enter the exam score: \"))\n",
        "if admission_score < 60:\n",
        "  print(\"Admission unlikely\")\n",
        "elif admission_score >= 60 and admission_score <= 79:\n",
        "  print(\"Admission possible\")\n",
        "elif admission_score >= 80 and admission_score <= 89:\n",
        "  print(\"Admission probable\")\n",
        "else:\n",
        "  print(\"Admission assured\")"
      ],
      "metadata": {
        "colab": {
          "base_uri": "https://localhost:8080/"
        },
        "id": "IOWpZv9q0oGk",
        "outputId": "26fdb433-a425-4fd9-8a56-7c10c455de7c"
      },
      "execution_count": null,
      "outputs": [
        {
          "output_type": "stream",
          "name": "stdout",
          "text": [
            "Enter the exam score: 84\n",
            "Admission probable\n"
          ]
        }
      ]
    },
    {
      "cell_type": "code",
      "source": [
        "# Q7:\n",
        "# Simple Loan Approval System\n",
        "# Scenario: A bank has basic criteria for loan approval.\n",
        "# Task: Create a program that determines loan approval based on:\n",
        "\n",
        "# Credit Score (Good/Fair/Poor)\n",
        "# Annual Income (Above/Below ₹500,000)\n",
        "# Employment Status (Employed/Self-employed/Unemployed)\n",
        "\n",
        "credit_score = input(\"Enter the credit score: \")\n",
        "annual_income = int(input(\"Enter the annual income: \"))\n",
        "employment_status = input(\"Enter the employment status: \")\n",
        "if (credit_score == \"Good\" or credit_score == \"Fair\") and annual_income > 500000 and (employment_status == \"Employed\" or employment_status == \"Self-employed\"):\n",
        "  print(\"Loan Approved\")\n",
        "else:\n",
        "  print(\"Loan Not Approved\")"
      ],
      "metadata": {
        "colab": {
          "base_uri": "https://localhost:8080/"
        },
        "id": "EKiWhjwV0u8Q",
        "outputId": "48132b4a-521e-4b98-c912-b3a1b418e697"
      },
      "execution_count": null,
      "outputs": [
        {
          "output_type": "stream",
          "name": "stdout",
          "text": [
            "Enter the credit score: Good\n",
            "Enter the annual income: 500001\n",
            "Enter the employment status: Employed\n",
            "Loan Approved\n"
          ]
        }
      ]
    },
    {
      "cell_type": "code",
      "source": [
        "# Q8:\n",
        "# Mobile Plan Recommender\n",
        "# Scenario: A telecom company recommends plans based on usage.\n",
        "# Task: Write a program that suggests a plan based on monthly data usage:\n",
        "\n",
        "# 0-2 GB: \"Basic Plan\"\n",
        "# 2-5 GB: \"Standard Plan\"\n",
        "# 5-10 GB: \"Heavy User Plan\"\n",
        "# Above 10 GB: \"Unlimited Plan\"\n",
        "\n",
        "monthly_data_usage = int(input(\"Enter the monthly data usage: \"))\n",
        "if monthly_data_usage >= 0 and monthly_data_usage <= 2:\n",
        "  print(\"Basic Plan\")\n",
        "elif monthly_data_usage >= 2 and monthly_data_usage <= 5:\n",
        "  print(\"Standard Plan\")\n",
        "elif monthly_data_usage >= 5 and monthly_data_usage <= 10:\n",
        "  print(\"Heavy User Plan\")\n",
        "else:\n",
        "  print(\"Unlimited Plan\")"
      ],
      "metadata": {
        "colab": {
          "base_uri": "https://localhost:8080/"
        },
        "id": "a8gdlvYP0wbR",
        "outputId": "e72494bd-9b43-4ca0-f6c6-4aad08c91776"
      },
      "execution_count": null,
      "outputs": [
        {
          "output_type": "stream",
          "name": "stdout",
          "text": [
            "Enter the monthly data usage: 11\n",
            "Unlimited Plan\n"
          ]
        }
      ]
    },
    {
      "cell_type": "code",
      "source": [
        "# Q9:\n",
        "# Simple Health Risk Assessment\n",
        "# Scenario: A health app provides basic risk assessment based on BMI.\n",
        "# Task: Create a program that calculates BMI (weight in kg / (height in m)^2) and provides a health risk assessment:\n",
        "\n",
        "# Below 18.5: \"Underweight\"\n",
        "# 18.5-24.9: \"Normal weight\"\n",
        "# 25-29.9: \"Overweight\"\n",
        "# 30 and above: \"Obese\"\n",
        "\n",
        "weight = float(input(\"Enter the weight: \"))\n",
        "height = float(input(\"Enter the height: \"))\n",
        "bmi = weight / (height * height)\n",
        "if bmi < 18.5:\n",
        "  print(\"Underweight\")\n",
        "elif bmi >= 18.5 and bmi <= 24.9:\n",
        "  print(\"Normal weight\")\n",
        "elif bmi >= 25 and bmi <= 29.9:\n",
        "  print(\"Overweight\")\n",
        "else:\n",
        "  print(\"Obese\")"
      ],
      "metadata": {
        "colab": {
          "base_uri": "https://localhost:8080/"
        },
        "id": "7bukqOab0wQp",
        "outputId": "ac8cf697-52a3-4598-e949-9a6a0f1c19cf"
      },
      "execution_count": null,
      "outputs": [
        {
          "output_type": "stream",
          "name": "stdout",
          "text": [
            "Enter the weight: 84\n",
            "Enter the height: 1.76\n",
            "Overweight\n"
          ]
        }
      ]
    },
    {
      "cell_type": "code",
      "source": [
        "from typing_extensions import final\n",
        "# Problem 1: Discount Calculation Scenario:\n",
        "\n",
        "# A store is offering different discounts based on the purchase amount.\n",
        "# If the amount is greater than or equal to 5000, the customer gets a 20% discount.\n",
        "# If the amount is between 2000 and 4999, the customer gets a 10% discount.\n",
        "# If the amount is between 1000 and 1999, the customer gets a 5% discount.\n",
        "# If the amount is less than 1000, no discount is given.\n",
        "\n",
        "# Task: Write a program that takes the purchase amount as input and prints the applicable discount percentage.\n",
        "\n",
        "amount = int(input(\"Enter the purchase amount: \"))\n",
        "discount = 0\n",
        "if amount >= 5000:\n",
        "  discount = 20\n",
        "elif amount >= 2000 and amount <= 4999:\n",
        "  discount = 10\n",
        "elif amount >= 1000 and amount <= 1999:\n",
        "  discount = 5\n",
        "else:\n",
        "  discount = 0\n",
        "final_amount = amount - (amount * discount / 100)\n",
        "print(\"Discount: \", discount)\n",
        "print(\"Final Amount: \", final_amount)"
      ],
      "metadata": {
        "id": "116_g54f0wJK",
        "colab": {
          "base_uri": "https://localhost:8080/"
        },
        "outputId": "67e9a44d-be05-4c33-ca3c-8378b9a02c8f"
      },
      "execution_count": null,
      "outputs": [
        {
          "output_type": "stream",
          "name": "stdout",
          "text": [
            "Enter the purchase amount: 6000\n",
            "Discount:  20\n",
            "Final Amount:  4800.0\n"
          ]
        }
      ]
    },
    {
      "cell_type": "code",
      "source": [
        "# Problem 2: Traffic Light Signal Scenario:\n",
        "\n",
        "# You are writing a program for a traffic control system.\n",
        "# If the light is \"Red,\" print \"Stop.\"\n",
        "# If the light is \"Yellow,\" print \"Get ready.\"\n",
        "# If the light is \"Green,\" print \"Go.\"\n",
        "\n",
        "# Task: Take a color input from the user and print the appropriate message.\n",
        "\n",
        "traffic_light = input(\"Enter the traffic light color: \")\n",
        "if traffic_light == \"Red\":\n",
        "  print(\"Stop\")\n",
        "elif traffic_light == \"Yellow\":\n",
        "  print(\"Get Ready\")\n",
        "elif traffic_light == \"Green\":\n",
        "  print(\"Go\")\n",
        "else:\n",
        "  print(\"Invalid Color\")"
      ],
      "metadata": {
        "id": "BeDsdo7V091P",
        "outputId": "9b0eaf81-6d02-4f65-ffac-0b91c6abfda5",
        "colab": {
          "base_uri": "https://localhost:8080/"
        }
      },
      "execution_count": 5,
      "outputs": [
        {
          "output_type": "stream",
          "name": "stdout",
          "text": [
            "Enter the traffic light color: Red\n",
            "Stop\n"
          ]
        }
      ]
    },
    {
      "cell_type": "code",
      "source": [
        "# Problem 3: Eligibility for Loan Approval Scenario:\n",
        "\n",
        "# A bank wants to automate loan eligibility checks.\n",
        "# If a person’s credit score is above 750 and their annual income is greater than 500,000, they are eligible for a loan.\n",
        "# If their credit score is between 600 and 750 and income is between 300,000 and 500,000, they need a guarantor.\n",
        "# If their credit score is less than 600, they are not eligible for a loan.\n",
        "\n",
        "# Task: Write a program that takes credit score and annual income as input and prints the eligibility status."
      ],
      "metadata": {
        "id": "-_hOWep-09uB"
      },
      "execution_count": null,
      "outputs": []
    },
    {
      "cell_type": "code",
      "source": [
        "# Problem 4: Movie Ticket Pricing Scenario:\n",
        "\n",
        "# A cinema offers different ticket prices based on the customer's age.\n",
        "# If the age is below 5, the ticket is free.\n",
        "# If the age is between 5 and 12, the ticket price is $5.\n",
        "# If the age is between 13 and 60, the ticket price is $10.\n",
        "# If the age is above 60, the ticket price is $7.\n",
        "\n",
        "# Task: Write a program that takes the age as input and prints the ticket price."
      ],
      "metadata": {
        "id": "apaRB6eQ09rW"
      },
      "execution_count": null,
      "outputs": []
    },
    {
      "cell_type": "code",
      "source": [
        "# Problem 5: Grade Calculator Scenario:\n",
        "\n",
        "# A school wants to calculate the grades of students based on their scores.\n",
        "# If the score is 90 or above, the grade is \"A\".\n",
        "# If the score is between 80 and 89, the grade is \"B\".\n",
        "# If the score is between 70 and 79, the grade is \"C\".\n",
        "# If the score is between 60 and 69, the grade is \"D\".\n",
        "# If the score is below 60, the grade is \"F\".\n",
        "\n",
        "# Task: Write a program that takes the score as input and prints the grade."
      ],
      "metadata": {
        "id": "8iVOxXQK09oo"
      },
      "execution_count": null,
      "outputs": []
    },
    {
      "cell_type": "code",
      "source": [
        "# Problem 6: Temperature Classification Scenario: A weather station needs to classify temperature ranges.\n",
        "# If the temperature is below 0°C, print \"Freezing\".\n",
        "# If the temperature is between 0°C and 15°C, print \"Cold\".\n",
        "# If the temperature is between 16°C and 30°C, print \"Warm\".\n",
        "# If the temperature is above 30°C, print \"Hot\".\n",
        "\n",
        "# Task: Write a program that takes the temperature as input and prints the classification."
      ],
      "metadata": {
        "id": "VFWMqA4y09lm"
      },
      "execution_count": null,
      "outputs": []
    },
    {
      "cell_type": "code",
      "source": [
        "# Problem 7: Nested if for Password Strength Check Scenario:\n",
        "\n",
        "# A website requires users to create secure passwords.\n",
        "# If the password length is less than 8 characters, print \"Weak password\".\n",
        "# If the password length is 8 or more characters, check:\n",
        "# If it contains at least one number, print \"Strong password\".\n",
        "# Otherwise, print \"Moderate password\".\n",
        "\n",
        "# Task: Write a program that checks the strength of a password input."
      ],
      "metadata": {
        "id": "CgL71RsM09jI"
      },
      "execution_count": null,
      "outputs": []
    },
    {
      "cell_type": "code",
      "source": [
        "# Problem 8: Nested if for Loyalty Program Scenario:\n",
        "\n",
        "# A company runs a loyalty program with different benefits:\n",
        "# If the user is a \"Gold\" member:\n",
        "# If they have been a member for more than 5 years, print \"Eligible for VIP access\".\n",
        "# Otherwise, print \"Eligible for premium rewards\".\n",
        "# If the user is a \"Silver\" member:\n",
        "# Print \"Eligible for basic rewards\".\n",
        "# If the user is not a member, print \"Not eligible for rewards\".\n",
        "\n",
        "# Task: Write a program that takes membership type and years as input and prints the benefits."
      ],
      "metadata": {
        "id": "QN6O1oES09gI"
      },
      "execution_count": null,
      "outputs": []
    },
    {
      "cell_type": "code",
      "source": [
        "# Problem 9: Car Rental Eligibility Scenario:\n",
        "\n",
        "# A car rental service has specific requirements for renting a car:\n",
        "# If the customer’s age is less than 18, they cannot rent a car.\n",
        "# If the customer’s age is between 18 and 25, they can rent but must pay an additional surcharge.\n",
        "# If the customer’s age is above 25, they can rent with no surcharge.\n",
        "\n",
        "# Task: Write a program that takes the customer's age as input and prints the rental conditions."
      ],
      "metadata": {
        "id": "st3_IqO909dK"
      },
      "execution_count": null,
      "outputs": []
    },
    {
      "cell_type": "code",
      "source": [
        "# Problem 10: Shopping Cart Free Delivery Eligibility Scenario:\n",
        "\n",
        "# An online store provides free delivery only when certain conditions are met:\n",
        "# If the total order amount is above $100, print \"Free delivery\".\n",
        "# If the order amount is between $50 and $100 and the customer is a member, print \"Free delivery\".\n",
        "# If the order amount is below $50, print \"Delivery charges apply\".\n",
        "\n",
        "# Task: Write a program that takes the total order amount and membership status as input and prints the delivery eligibility."
      ],
      "metadata": {
        "id": "0PRFAwWn09aJ"
      },
      "execution_count": null,
      "outputs": []
    },
    {
      "cell_type": "code",
      "source": [
        "# Problem 11: University Admission Criteria\n",
        "# Scenario: A university has different admission criteria based on the student's grades and extracurricular activities:\n",
        "\n",
        "# If the student has a grade of 'A':\n",
        "# If they have participated in extracurricular activities, print \"Eligible for scholarship\".\n",
        "# If they have not participated, print \"Admitted without scholarship\".\n",
        "# If the student has a grade of 'B':\n",
        "# If they have participated in extracurricular activities, print \"Admitted with standard fee\".\n",
        "# If they have not participated, print \"Considered for waitlist\".\n",
        "# If the student has a grade lower than 'B', print \"Application not considered\".\n",
        "# Task: Write a program that takes the student’s grade and participation status as input and prints the admission decision."
      ],
      "metadata": {
        "id": "ziM4XLK_09W4"
      },
      "execution_count": null,
      "outputs": []
    },
    {
      "cell_type": "code",
      "source": [
        "# Problem 12: Restaurant Discounts\n",
        "# Scenario: A restaurant offers different discounts based on customer loyalty and the total bill amount:\n",
        "\n",
        "# If the customer is a loyalty member:\n",
        "# If the bill is over $100, print \"20% discount applied\".\n",
        "# If the bill is between $50 and $100, print \"10% discount applied\".\n",
        "# If the bill is below $50, print \"5% discount applied\".\n",
        "# If the customer is not a loyalty member:\n",
        "# If the bill is over $100, print \"10% discount applied\".\n",
        "# If the bill is between $50 and $100, print \"5% discount applied\".\n",
        "# If the bill is below $50, print \"No discount\".\n",
        "# Task: Write a program that takes loyalty status and bill amount as input and prints the discount."
      ],
      "metadata": {
        "id": "hS3uLvle09UK"
      },
      "execution_count": null,
      "outputs": []
    },
    {
      "cell_type": "code",
      "source": [
        "# Problem 13: Smartphone Purchase Eligibility\n",
        "# Scenario: A store wants to determine if a customer is eligible for purchasing a smartphone on a payment plan:\n",
        "\n",
        "# If the customer has a credit score above 700:\n",
        "# If their monthly income is greater than $3,000, print \"Eligible for payment plan with 0% interest\".\n",
        "# If their monthly income is between $2,000 and $3,000, print \"Eligible for payment plan with 5% interest\".\n",
        "# If the credit score is between 600 and 700:\n",
        "# Print \"Eligible for payment plan with 10% interest\".\n",
        "# If the credit score is below 600:\n",
        "# Print \"Not eligible for a payment plan\".\n",
        "# Task: Write a program that takes the customer's credit score and income as input and prints their eligibility."
      ],
      "metadata": {
        "id": "QoU8ZAfr1bxy"
      },
      "execution_count": null,
      "outputs": []
    },
    {
      "cell_type": "code",
      "source": [
        "# Problem 14: Parking Fee Calculation\n",
        "# Scenario: A parking lot charges different fees based on the type of vehicle and the duration of parking:\n",
        "\n",
        "# If the vehicle is a car:\n",
        "# If parking duration is less than 2 hours, print \"Fee is $5\".\n",
        "# If parking duration is between 2 and 5 hours, print \"Fee is $10\".\n",
        "# If parking duration is more than 5 hours, print \"Fee is $20\".\n",
        "# If the vehicle is a bike:\n",
        "# If parking duration is less than 2 hours, print \"Fee is $3\".\n",
        "# If parking duration is between 2 and 5 hours, print \"Fee is $6\".\n",
        "# If parking duration is more than 5 hours, print \"Fee is $12\".\n",
        "# For other vehicle types, print \"Contact parking office for fees\".\n",
        "# Task: Write a program that takes the type of vehicle and parking duration as input and prints the parking fee."
      ],
      "metadata": {
        "id": "-2GGYYIT1ejA"
      },
      "execution_count": null,
      "outputs": []
    },
    {
      "cell_type": "code",
      "source": [
        "# Problem 15: Weather Alert System\n",
        "# Scenario: A weather alert system needs to send notifications based on temperature and weather conditions:\n",
        "\n",
        "# If the temperature is above 35°C:\n",
        "# If it’s sunny, print \"Heatwave alert: Stay hydrated and avoid outdoor activities\".\n",
        "# If it’s cloudy, print \"Warm weather, stay indoors if possible\".\n",
        "# If the temperature is between 20°C and 35°C:\n",
        "# Print \"Comfortable weather, enjoy your day\".\n",
        "# If the temperature is below 20°C:\n",
        "# If it’s raining, print \"Cold and wet weather, carry an umbrella\".\n",
        "# If it’s not raining, print \"Chilly weather, wear warm clothes\".\n",
        "# Task: Write a program that takes temperature and weather condition as input and prints the appropriate alert."
      ],
      "metadata": {
        "id": "XQyjrn2I1hoU"
      },
      "execution_count": null,
      "outputs": []
    },
    {
      "cell_type": "code",
      "source": [
        "# Problem 16: Online Exam Grading\n",
        "# Scenario: An online learning platform needs to grade students based on their exam scores and attendance:\n",
        "\n",
        "# If the score is greater than 90:\n",
        "# If attendance is above 75%, print \"Grade: A\".\n",
        "# If attendance is 75% or less, print \"Grade: B\".\n",
        "# If the score is between 70 and 90:\n",
        "# If attendance is above 75%, print \"Grade: B\".\n",
        "# If attendance is 75% or less, print \"Grade: C\".\n",
        "# If the score is below 70:\n",
        "# Print \"Grade: D\".\n",
        "# Task: Write a program that takes exam score and attendance as input and prints the grade."
      ],
      "metadata": {
        "id": "zgSauIWn1kDl"
      },
      "execution_count": null,
      "outputs": []
    },
    {
      "cell_type": "code",
      "source": [
        "# Problem 17: Internet Speed Recommendations\n",
        "# Scenario: A tech support company provides recommendations based on internet speed and user type:\n",
        "\n",
        "# If the speed is above 100 Mbps:\n",
        "# If the user is a gamer, print \"Optimal speed for gaming and streaming\".\n",
        "# If the user is not a gamer, print \"Excellent speed for general usage\".\n",
        "# If the speed is between 50 Mbps and 100 Mbps:\n",
        "# Print \"Good speed for most users\".\n",
        "# If the speed is below 50 Mbps:\n",
        "# If the user is working from home, print \"Consider upgrading for better performance\".\n",
        "# If the user is not working from home, print \"Basic speed for minimal use\".\n",
        "# Task: Write a program that takes internet speed and user type as input and prints the recommendation."
      ],
      "metadata": {
        "id": "1hKjNdSt1mUn"
      },
      "execution_count": null,
      "outputs": []
    }
  ]
}