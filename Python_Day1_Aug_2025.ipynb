{
  "nbformat": 4,
  "nbformat_minor": 0,
  "metadata": {
    "colab": {
      "provenance": [],
      "authorship_tag": "ABX9TyO9Pa5PFKb5CBkM053XIz04",
      "include_colab_link": true
    },
    "kernelspec": {
      "name": "python3",
      "display_name": "Python 3"
    },
    "language_info": {
      "name": "python"
    }
  },
  "cells": [
    {
      "cell_type": "markdown",
      "metadata": {
        "id": "view-in-github",
        "colab_type": "text"
      },
      "source": [
        "<a href=\"https://colab.research.google.com/github/subhadipchatterjee2023/Python_Day1_Aug_2025/blob/main/Python_Day1_Aug_2025.ipynb\" target=\"_parent\"><img src=\"https://colab.research.google.com/assets/colab-badge.svg\" alt=\"Open In Colab\"/></a>"
      ]
    },
    {
      "cell_type": "code",
      "source": [
        "print(\"Hello World\")"
      ],
      "metadata": {
        "colab": {
          "base_uri": "https://localhost:8080/"
        },
        "id": "dl3h7XfnCpNS",
        "outputId": "fc75c17f-dbe9-40cd-edd4-7884efe2f533"
      },
      "execution_count": 3,
      "outputs": [
        {
          "output_type": "stream",
          "name": "stdout",
          "text": [
            "Hello World\n"
          ]
        }
      ]
    },
    {
      "cell_type": "markdown",
      "source": [
        "**Welcome Everyone to the Python Bootcamp Course**"
      ],
      "metadata": {
        "id": "odQnqTBnDorY"
      }
    },
    {
      "cell_type": "code",
      "source": [
        "print(\"Hello World\")\n",
        "print(\"Hi\")"
      ],
      "metadata": {
        "colab": {
          "base_uri": "https://localhost:8080/"
        },
        "id": "mlIQq6AjDKfw",
        "outputId": "99aa6354-cd8e-4cf7-d688-66b623a9d488"
      },
      "execution_count": 5,
      "outputs": [
        {
          "output_type": "stream",
          "name": "stdout",
          "text": [
            "Hello World\n",
            "Hi\n"
          ]
        }
      ]
    },
    {
      "cell_type": "code",
      "source": [
        "x = 1000\n",
        "y = 100.97\n",
        "z = \"Subhadip\"\n",
        "w = True\n",
        "print(type(x))\n",
        "print(type(y))\n",
        "print(type(z))\n",
        "print(type(w))"
      ],
      "metadata": {
        "colab": {
          "base_uri": "https://localhost:8080/"
        },
        "id": "yRmfBX62DLg4",
        "outputId": "40d26bf9-e01f-4393-f5c6-98e695df5f9e"
      },
      "execution_count": 8,
      "outputs": [
        {
          "output_type": "stream",
          "name": "stdout",
          "text": [
            "<class 'int'>\n",
            "<class 'float'>\n",
            "<class 'str'>\n",
            "<class 'bool'>\n"
          ]
        }
      ]
    },
    {
      "cell_type": "code",
      "source": [
        "x = 10\n",
        "y = 20\n",
        "z = x + y\n",
        "print(z)"
      ],
      "metadata": {
        "colab": {
          "base_uri": "https://localhost:8080/"
        },
        "id": "numY7pMPDLvo",
        "outputId": "1884c51b-1026-4aab-b966-dc969e32285a"
      },
      "execution_count": 9,
      "outputs": [
        {
          "output_type": "stream",
          "name": "stdout",
          "text": [
            "30\n"
          ]
        }
      ]
    },
    {
      "cell_type": "code",
      "source": [
        "## Imagine that you are building an application for the grocery store. At the billing counter,\n",
        "## we need a calculator (sum calculator)\n",
        "## it will give you 3 items prices and you have to tell the total amount to pay\n",
        "## Example: item1 = 100, item2 = 200, item3 = 300, Amount to pay 600\n",
        "\n",
        "item1 = 100\n",
        "item2 = 200\n",
        "item3 = 300\n",
        "total = item1 + item2 + item3\n",
        "print(\"total amount is: \", total)"
      ],
      "metadata": {
        "colab": {
          "base_uri": "https://localhost:8080/"
        },
        "id": "y6p6yeBJDMAo",
        "outputId": "5b2e7727-25d5-472f-9c59-db8ac36d9359"
      },
      "execution_count": 14,
      "outputs": [
        {
          "output_type": "stream",
          "name": "stdout",
          "text": [
            "total amount is:  600\n"
          ]
        }
      ]
    },
    {
      "cell_type": "code",
      "source": [
        "## Imaging you are building the EMI calculator.\n",
        "## You have to tell the outstanding amount is equal to loan amount taken and out of that\n",
        "## you paid something and then the leftover amount remains is outstanding amount\n",
        "\n",
        "## Example: Loan Amount = 100000, Paid so far = 20000, outstanding amount = 80000\n",
        "\n",
        "loan_amount = int(input(\"Enter the loan amnount: \"))\n",
        "paid_so_far = int(input(\"Enter the amount paid so far: \"))\n",
        "outstanding_amount = loan_amount - paid_so_far\n",
        "print(\"Outstanding amount is:\", outstanding_amount)"
      ],
      "metadata": {
        "colab": {
          "base_uri": "https://localhost:8080/"
        },
        "id": "h82e_oSYDMJg",
        "outputId": "2e2f42ea-808f-49b1-f583-80a6790f9387"
      },
      "execution_count": 23,
      "outputs": [
        {
          "output_type": "stream",
          "name": "stdout",
          "text": [
            "Enter the loan amnount: 100000\n",
            "Enter the amount paid so far: 20000\n",
            "Outstanding amount is: 80000\n"
          ]
        }
      ]
    },
    {
      "cell_type": "code",
      "source": [
        "## Imagine that you are building a credit risk application\n",
        "## You need to check the outstanding amount (loan taken - already paid) and check this:\n",
        "## If the outstanding amount is above 5 lacs then this customer is high risk account\n",
        "## and if the outstanding amount is below or equal to 5 lacs then moderate risk.\n",
        "\n",
        "loan_taken = int(input(\"Enter the loan amount: \"))\n",
        "already_paid = int(input(\"Enter the amount already paid: \"))\n",
        "outstanding_amount = loan_taken - already_paid\n",
        "if outstanding_amount >= 500000:\n",
        "    print(\"High Risk Account\")\n",
        "else:\n",
        "    print(\"Moderate Risk\")"
      ],
      "metadata": {
        "colab": {
          "base_uri": "https://localhost:8080/"
        },
        "id": "T2LE3VymDMS4",
        "outputId": "3e153578-38c5-46fb-d01a-3f2353cb5904"
      },
      "execution_count": 27,
      "outputs": [
        {
          "output_type": "stream",
          "name": "stdout",
          "text": [
            "Enter the loan amount: 520000\n",
            "Enter the amount already paid: 20000\n",
            "High Risk Account\n"
          ]
        }
      ]
    },
    {
      "cell_type": "code",
      "source": [
        "# Imagine you are a grocery operator, whenever you are doing the bill\n",
        "# calculate the total amount based on the items purchased, and for all the total amount above 500 you give\n",
        "# 10% discount and any amount below that 5% discount\n",
        "# finally tell to customer how much to pay\n",
        "\n",
        "item1 = int(input(\"Enter the price of item1: \"))\n",
        "item2 = int(input(\"Enter the price of item2: \"))\n",
        "item3 = int(input(\"Enter the price of item3: \"))\n",
        "total = item1 + item2 + item3\n",
        "if total >= 500:\n",
        "    total1 = total - (total * 0.1)\n",
        "    print(\"Total amount to pay is: \", total1)\n",
        "else:\n",
        "    total2 = total - (total * 0.05)\n",
        "    print(\"Total amount to pay is: \", total2)"
      ],
      "metadata": {
        "colab": {
          "base_uri": "https://localhost:8080/"
        },
        "id": "N6hbbKMdDMaI",
        "outputId": "6b9a5459-aad1-4475-def6-3fcc5c04a6a6"
      },
      "execution_count": 35,
      "outputs": [
        {
          "output_type": "stream",
          "name": "stdout",
          "text": [
            "Enter the price of item1: 5000\n",
            "Enter the price of item2: 6000\n",
            "Enter the price of item3: 5000\n",
            "Total amount to pay is:  14400.0\n"
          ]
        }
      ]
    },
    {
      "cell_type": "code",
      "source": [
        "from re import sub\n",
        "## You have to calculate how much percentage u got in exam\n",
        "## 5 subject score\n",
        "\n",
        "sub1 = int(input(\"Enter the score of sub1: \"))\n",
        "sub2 = int(input(\"Enter the score of sub2: \"))\n",
        "sub3 = int(input(\"Enter the score of sub3: \"))\n",
        "sub4 = int(input(\"Enter the score of sub4: \"))\n",
        "sub5 = int(input(\"Enter the score of sub5: \"))\n",
        "total = sub1 + sub2 + sub3+ sub4+ sub5\n",
        "perc = (total / 500) * 100\n",
        "print(\"Total is: \", total)\n",
        "print(\"Percentage is: \", perc)"
      ],
      "metadata": {
        "colab": {
          "base_uri": "https://localhost:8080/"
        },
        "id": "RPC_6_7sDMgw",
        "outputId": "e5445dda-e0d4-4fa5-d11d-ae34251db01e"
      },
      "execution_count": 40,
      "outputs": [
        {
          "output_type": "stream",
          "name": "stdout",
          "text": [
            "Enter the score of sub1: 80\n",
            "Enter the score of sub2: 80\n",
            "Enter the score of sub3: 80\n",
            "Enter the score of sub4: 80\n",
            "Enter the score of sub5: 80\n",
            "Total is:  400\n",
            "Percentage is:  80.0\n"
          ]
        }
      ]
    },
    {
      "cell_type": "code",
      "source": [
        "# student to calculate the grade\n",
        "# above 90% you got grade A\n",
        "# 70 to 90 grade B\n",
        "# Below 70 grade C\n",
        "\n",
        "marks = int(input(\"Enter the marks: \"))\n",
        "if marks < 0 or marks > 100:\n",
        "  print(\"Invalid Marks\")\n",
        "elif marks >= 90 and marks < 100:\n",
        "    print(\"Grade A\")\n",
        "elif marks >= 70 and marks < 90:\n",
        "    print(\"Grade B\")\n",
        "else:\n",
        "    print(\"Grade C\")"
      ],
      "metadata": {
        "colab": {
          "base_uri": "https://localhost:8080/"
        },
        "id": "OFKm4zqCDMnI",
        "outputId": "05015a23-621b-4980-8d8b-a753ad9052e1"
      },
      "execution_count": 53,
      "outputs": [
        {
          "output_type": "stream",
          "name": "stdout",
          "text": [
            "Enter the marks: -1\n",
            "Invalid Marks\n"
          ]
        }
      ]
    },
    {
      "cell_type": "code",
      "source": [
        "# Cricinfo website IND vs END match\n",
        "# to create a prediction calculator: if the number of runs needed is more than the number of balls the probability of win is very low\n",
        "# but if the number runs is less than the balls then probability of win is very high\n",
        "\n",
        "number_of_runs_needed = int(input(\"Enter the number of runs needed: \"))\n",
        "number_of_balls = int(input(\"Enter the number of balls: \"))\n",
        "if number_of_runs_needed > number_of_balls:\n",
        "    print(\"Probability of win is very low\")\n",
        "else:\n",
        "    print(\"Probability of win is very high\")"
      ],
      "metadata": {
        "colab": {
          "base_uri": "https://localhost:8080/"
        },
        "id": "yNKDi5vqDMtX",
        "outputId": "481cf542-d77e-4722-9d07-0a0c17753ec3"
      },
      "execution_count": 55,
      "outputs": [
        {
          "output_type": "stream",
          "name": "stdout",
          "text": [
            "Enter the number of runs needed: 50\n",
            "Enter the number of balls: 56\n",
            "Probability of win is very high\n"
          ]
        }
      ]
    },
    {
      "cell_type": "code",
      "source": [
        "## Question 1: A store sells apples at $5 each and bananas at $3 each. Declare variables apples_price and bananas_price with appropriate values.\n",
        "# Calculate the total cost for purchasing 10 apples and 7 bananas and store the result in total_cost.\n",
        "\n",
        "apples_price = 5\n",
        "bananas_price = 3\n",
        "total_cost = 10 * apples_price + 7 * bananas_price\n",
        "print(\"Total cost is: \", total_cost)"
      ],
      "metadata": {
        "colab": {
          "base_uri": "https://localhost:8080/"
        },
        "id": "KSP8o_0b1tYb",
        "outputId": "c6a95412-0340-4c40-f4aa-0f3358f2e636"
      },
      "execution_count": 1,
      "outputs": [
        {
          "output_type": "stream",
          "name": "stdout",
          "text": [
            "Total cost is:  71\n"
          ]
        }
      ]
    },
    {
      "cell_type": "code",
      "source": [
        "# Question 2: You have a monthly salary of $4,000 and expenses that include rent ($1,200), groceries ($300), and miscellaneous ($500).\n",
        "# Calculate the amount left after expenses and store it in a variable named remaining_balance.\n",
        "\n",
        "monthly_salary = 4000\n",
        "rent = 1200\n",
        "groceries = 300\n",
        "miscellaneous = 500\n",
        "total_expenses = rent + groceries + miscellaneous\n",
        "remaining_balance = monthly_salary - total_expenses\n",
        "print(\"Remaining Balance is: \", remaining_balance)"
      ],
      "metadata": {
        "colab": {
          "base_uri": "https://localhost:8080/"
        },
        "id": "rXI8iGk22Pjz",
        "outputId": "5d1031ec-e66f-4fe3-b576-e73e5e9feb95"
      },
      "execution_count": 6,
      "outputs": [
        {
          "output_type": "stream",
          "name": "stdout",
          "text": [
            "Remaining Balance is:  2000\n"
          ]
        }
      ]
    },
    {
      "cell_type": "code",
      "source": [
        "# Question 3: A team won 28 matches this season, and last season they won 18 matches.\n",
        "# Declare variables current_season_wins and last_season_wins with respective values. Calculate the increase in matches won and store it in win_difference.\n",
        "\n",
        "current_season_wins = 28\n",
        "last_season_wins = 18\n",
        "win_difference = (current_season_wins - last_season_wins)\n",
        "print(\"Win Difference is: \", win_difference)"
      ],
      "metadata": {
        "colab": {
          "base_uri": "https://localhost:8080/"
        },
        "id": "ht4YCB0a2UH0",
        "outputId": "b477ccb4-e4ab-41d6-ba99-682920f6865a"
      },
      "execution_count": 15,
      "outputs": [
        {
          "output_type": "stream",
          "name": "stdout",
          "text": [
            "Win Difference is:  10\n"
          ]
        }
      ]
    },
    {
      "cell_type": "code",
      "source": [
        "# Question 4: A travel company charges $250 per person for a weekend trip and gives a $100 group discount for every 5 people.\n",
        "# If a group has 15 people Calculate the total cost for the group and store it in group_trip_cost.\n",
        "\n",
        "per_person_charges = 250\n",
        "group_discount = 100\n",
        "person_discount = 20\n",
        "total_group_cost = 15 // 5 * person_discount + per_person_charges\n",
        "print(\"Total Cost for the group: \", total_group_cost)"
      ],
      "metadata": {
        "colab": {
          "base_uri": "https://localhost:8080/"
        },
        "id": "YMhmenar2YyB",
        "outputId": "8a696b04-d107-4dc9-e439-380eb22a1407"
      },
      "execution_count": 18,
      "outputs": [
        {
          "output_type": "stream",
          "name": "stdout",
          "text": [
            "Total Cost for the group:  310\n"
          ]
        }
      ]
    },
    {
      "cell_type": "code",
      "source": [
        "# Question 5: An item costs $120, and there is a discount of 15%. Calculate the final price after the discount and store it in discounted_price.\n",
        "\n",
        "item_price = 120\n",
        "discount = 15\n",
        "discounted_price = item_price - (item_price * discount / 100)\n",
        "print(\"Discounted Price is: \", discounted_price)"
      ],
      "metadata": {
        "colab": {
          "base_uri": "https://localhost:8080/"
        },
        "id": "vW8ZhLXm2ctO",
        "outputId": "958f5b16-830f-4d0c-d7ea-938f848fb673"
      },
      "execution_count": 19,
      "outputs": [
        {
          "output_type": "stream",
          "name": "stdout",
          "text": [
            "Discounted Price is:  102.0\n"
          ]
        }
      ]
    },
    {
      "cell_type": "code",
      "source": [
        "# Question 6: A company produces 500 units daily and sells each unit for $20. Declare variables units_per_day and price_per_unit.\n",
        "# Calculate the monthly revenue assuming a 30-day month and store it in monthly_revenue.\n",
        "\n",
        "units_per_day = 500\n",
        "price_per_unit = 20\n",
        "monthly_revenue = units_per_day * price_per_unit * 30\n",
        "print(\"Monthly Revenue is: \", monthly_revenue)"
      ],
      "metadata": {
        "colab": {
          "base_uri": "https://localhost:8080/"
        },
        "id": "EMRaOtKR2fP8",
        "outputId": "be8bbbd8-5e65-4097-b372-f2bdba458de6"
      },
      "execution_count": 20,
      "outputs": [
        {
          "output_type": "stream",
          "name": "stdout",
          "text": [
            "Monthly Revenue is:  300000\n"
          ]
        }
      ]
    },
    {
      "cell_type": "code",
      "source": [
        "# Question 7: A farmer grows wheat on a 150-acre farm and yields 3,000 kg per acre.\n",
        "# Declare variables acreage and yield_per_acre. Calculate the total wheat production and store it in total_production.\n",
        "\n",
        "acreage = 150\n",
        "yield_per_acre = 3000\n",
        "total_prodcution = acreage * yield_per_acre\n",
        "print(\"Total Production is: \", total_prodcution)"
      ],
      "metadata": {
        "colab": {
          "base_uri": "https://localhost:8080/"
        },
        "id": "0fo4igAe2jYe",
        "outputId": "393157a1-b6f4-419b-d115-01754883982f"
      },
      "execution_count": 21,
      "outputs": [
        {
          "output_type": "stream",
          "name": "stdout",
          "text": [
            "Total Production is:  450000\n"
          ]
        }
      ]
    },
    {
      "cell_type": "code",
      "source": [
        "# Question 8: A bakery makes $2 profit on each loaf of bread sold. If they sell 200 loaves in a day, declare variables profit_per_loaf and loaves_sold.\n",
        "# Calculate the daily profit and store it in daily_profit.\n",
        "\n",
        "profit_per_loaf = 2\n",
        "loaves_sold = 200\n",
        "daily_profit = profit_per_loaf * loaves_sold\n",
        "print(\"Daily Profit is: \", daily_profit)"
      ],
      "metadata": {
        "colab": {
          "base_uri": "https://localhost:8080/"
        },
        "id": "LeAV7Wam2oi0",
        "outputId": "ff653b8d-963b-4867-f735-c330eff7dd32"
      },
      "execution_count": 22,
      "outputs": [
        {
          "output_type": "stream",
          "name": "stdout",
          "text": [
            "Daily Profit is:  400\n"
          ]
        }
      ]
    },
    {
      "cell_type": "code",
      "source": [
        "# Question 9: You are planning an event for 120 attendees. The venue rental is $800, and catering costs $25 per person. Declare variables venue_cost, catering_cost_per_person, and number_of_attendees.\n",
        "# Calculate the total cost of the event and store it in event_total_cost.\n",
        "\n",
        "venue_cost = 800\n",
        "catering_cost_per_person = 25\n",
        "number_of_attendees = 120\n",
        "event_total_cost = venue_cost + catering_cost_per_person * number_of_attendees\n",
        "print(\"Event Total Cost is: \", event_total_cost)"
      ],
      "metadata": {
        "colab": {
          "base_uri": "https://localhost:8080/"
        },
        "id": "szClj9Ra2rBM",
        "outputId": "f13662db-e7ef-4144-f5d8-5168a35c3e17"
      },
      "execution_count": 23,
      "outputs": [
        {
          "output_type": "stream",
          "name": "stdout",
          "text": [
            "Event Total Cost is:  3800\n"
          ]
        }
      ]
    },
    {
      "cell_type": "code",
      "source": [
        "# Question 10: A school's annual fee per student is $1,500, and they provide a 5% sibling discount.\n",
        "# Declare variables annual_fee and sibling_discount_percent. Calculate the discounted fee for one sibling and store it in sibling_discounted_fee.\n",
        "\n",
        "annual_fee = 1500\n",
        "sibling_discount = 5\n",
        "discounted_fee = annual_fee - (annual_fee * sibling_discount / 100)\n",
        "print(\"Discounted Fee is: \", discounted_fee)"
      ],
      "metadata": {
        "colab": {
          "base_uri": "https://localhost:8080/"
        },
        "id": "VlSaYQCB2uzX",
        "outputId": "5b98cce0-b0b7-43a6-e113-9d24de592a5b"
      },
      "execution_count": 25,
      "outputs": [
        {
          "output_type": "stream",
          "name": "stdout",
          "text": [
            "Discounted Fee is:  1425.0\n"
          ]
        }
      ]
    }
  ]
}