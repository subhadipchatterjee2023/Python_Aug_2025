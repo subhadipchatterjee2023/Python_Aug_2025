{
  "nbformat": 4,
  "nbformat_minor": 0,
  "metadata": {
    "colab": {
      "provenance": [],
      "authorship_tag": "ABX9TyNl4aYhqDhARxqsF/0M91Uv",
      "include_colab_link": true
    },
    "kernelspec": {
      "name": "python3",
      "display_name": "Python 3"
    },
    "language_info": {
      "name": "python"
    }
  },
  "cells": [
    {
      "cell_type": "markdown",
      "metadata": {
        "id": "view-in-github",
        "colab_type": "text"
      },
      "source": [
        "<a href=\"https://colab.research.google.com/github/subhadipchatterjee2023/Python_Day1_Aug_2025/blob/main/Python_Day1_Aug_2025.ipynb\" target=\"_parent\"><img src=\"https://colab.research.google.com/assets/colab-badge.svg\" alt=\"Open In Colab\"/></a>"
      ]
    },
    {
      "cell_type": "code",
      "source": [
        "print(\"Hello World\")"
      ],
      "metadata": {
        "colab": {
          "base_uri": "https://localhost:8080/"
        },
        "id": "dl3h7XfnCpNS",
        "outputId": "fc75c17f-dbe9-40cd-edd4-7884efe2f533"
      },
      "execution_count": 3,
      "outputs": [
        {
          "output_type": "stream",
          "name": "stdout",
          "text": [
            "Hello World\n"
          ]
        }
      ]
    },
    {
      "cell_type": "markdown",
      "source": [
        "**Welcome Everyone to the Python Bootcamp Course**"
      ],
      "metadata": {
        "id": "odQnqTBnDorY"
      }
    },
    {
      "cell_type": "code",
      "source": [
        "print(\"Hello World\")\n",
        "print(\"Hi\")"
      ],
      "metadata": {
        "colab": {
          "base_uri": "https://localhost:8080/"
        },
        "id": "mlIQq6AjDKfw",
        "outputId": "99aa6354-cd8e-4cf7-d688-66b623a9d488"
      },
      "execution_count": 5,
      "outputs": [
        {
          "output_type": "stream",
          "name": "stdout",
          "text": [
            "Hello World\n",
            "Hi\n"
          ]
        }
      ]
    },
    {
      "cell_type": "code",
      "source": [
        "x = 1000\n",
        "y = 100.97\n",
        "z = \"Subhadip\"\n",
        "w = True\n",
        "print(type(x))\n",
        "print(type(y))\n",
        "print(type(z))\n",
        "print(type(w))"
      ],
      "metadata": {
        "colab": {
          "base_uri": "https://localhost:8080/"
        },
        "id": "yRmfBX62DLg4",
        "outputId": "40d26bf9-e01f-4393-f5c6-98e695df5f9e"
      },
      "execution_count": 8,
      "outputs": [
        {
          "output_type": "stream",
          "name": "stdout",
          "text": [
            "<class 'int'>\n",
            "<class 'float'>\n",
            "<class 'str'>\n",
            "<class 'bool'>\n"
          ]
        }
      ]
    },
    {
      "cell_type": "code",
      "source": [
        "x = 10\n",
        "y = 20\n",
        "z = x + y\n",
        "print(z)"
      ],
      "metadata": {
        "colab": {
          "base_uri": "https://localhost:8080/"
        },
        "id": "numY7pMPDLvo",
        "outputId": "1884c51b-1026-4aab-b966-dc969e32285a"
      },
      "execution_count": 9,
      "outputs": [
        {
          "output_type": "stream",
          "name": "stdout",
          "text": [
            "30\n"
          ]
        }
      ]
    },
    {
      "cell_type": "code",
      "source": [
        "## Imagine that you are building an application for the grocery store. At the billing counter,\n",
        "## we need a calculator (sum calculator)\n",
        "## it will give you 3 items prices and you have to tell the total amount to pay\n",
        "## Example: item1 = 100, item2 = 200, item3 = 300, Amount to pay 600\n",
        "\n",
        "item1 = 100\n",
        "item2 = 200\n",
        "item3 = 300\n",
        "total = item1 + item2 + item3\n",
        "print(\"total amount is: \", total)"
      ],
      "metadata": {
        "colab": {
          "base_uri": "https://localhost:8080/"
        },
        "id": "y6p6yeBJDMAo",
        "outputId": "5b2e7727-25d5-472f-9c59-db8ac36d9359"
      },
      "execution_count": 14,
      "outputs": [
        {
          "output_type": "stream",
          "name": "stdout",
          "text": [
            "total amount is:  600\n"
          ]
        }
      ]
    },
    {
      "cell_type": "code",
      "source": [
        "## Imaging you are building the EMI calculator.\n",
        "## You have to tell the outstanding amount is equal to loan amount taken and out of that\n",
        "## you paid something and then the leftover amount remains is outstanding amount\n",
        "\n",
        "## Example: Loan Amount = 100000, Paid so far = 20000, outstanding amount = 80000\n",
        "\n",
        "loan_amount = int(input(\"Enter the loan amnount: \"))\n",
        "paid_so_far = int(input(\"Enter the amount paid so far: \"))\n",
        "outstanding_amount = loan_amount - paid_so_far\n",
        "print(\"Outstanding amount is:\", outstanding_amount)"
      ],
      "metadata": {
        "colab": {
          "base_uri": "https://localhost:8080/"
        },
        "id": "h82e_oSYDMJg",
        "outputId": "2e2f42ea-808f-49b1-f583-80a6790f9387"
      },
      "execution_count": 23,
      "outputs": [
        {
          "output_type": "stream",
          "name": "stdout",
          "text": [
            "Enter the loan amnount: 100000\n",
            "Enter the amount paid so far: 20000\n",
            "Outstanding amount is: 80000\n"
          ]
        }
      ]
    },
    {
      "cell_type": "code",
      "source": [
        "## Imagine that you are building a credit risk application\n",
        "## You need to check the outstanding amount (loan taken - already paid) and check this:\n",
        "## If the outstanding amount is above 5 lacs then this customer is high risk account\n",
        "## and if the outstanding amount is below or equal to 5 lacs then moderate risk.\n",
        "\n",
        "loan_taken = int(input(\"Enter the loan amount: \"))\n",
        "already_paid = int(input(\"Enter the amount already paid: \"))\n",
        "outstanding_amount = loan_taken - already_paid\n",
        "if outstanding_amount >= 500000:\n",
        "    print(\"High Risk Account\")\n",
        "else:\n",
        "    print(\"Moderate Risk\")"
      ],
      "metadata": {
        "colab": {
          "base_uri": "https://localhost:8080/"
        },
        "id": "T2LE3VymDMS4",
        "outputId": "3e153578-38c5-46fb-d01a-3f2353cb5904"
      },
      "execution_count": 27,
      "outputs": [
        {
          "output_type": "stream",
          "name": "stdout",
          "text": [
            "Enter the loan amount: 520000\n",
            "Enter the amount already paid: 20000\n",
            "High Risk Account\n"
          ]
        }
      ]
    },
    {
      "cell_type": "code",
      "source": [
        "# Imagine you are a grocery operator, whenever you are doing the bill\n",
        "# calculate the total amount based on the items purchased, and for all the total amount above 500 you give\n",
        "# 10% discount and any amount below that 5% discount\n",
        "# finally tell to customer how much to pay\n",
        "\n",
        "item1 = int(input(\"Enter the price of item1: \"))\n",
        "item2 = int(input(\"Enter the price of item2: \"))\n",
        "item3 = int(input(\"Enter the price of item3: \"))\n",
        "total = item1 + item2 + item3\n",
        "if total >= 500:\n",
        "    total1 = total - (total * 0.1)\n",
        "    print(\"Total amount to pay is: \", total1)\n",
        "else:\n",
        "    total2 = total - (total * 0.05)\n",
        "    print(\"Total amount to pay is: \", total2)"
      ],
      "metadata": {
        "colab": {
          "base_uri": "https://localhost:8080/"
        },
        "id": "N6hbbKMdDMaI",
        "outputId": "6b9a5459-aad1-4475-def6-3fcc5c04a6a6"
      },
      "execution_count": 35,
      "outputs": [
        {
          "output_type": "stream",
          "name": "stdout",
          "text": [
            "Enter the price of item1: 5000\n",
            "Enter the price of item2: 6000\n",
            "Enter the price of item3: 5000\n",
            "Total amount to pay is:  14400.0\n"
          ]
        }
      ]
    },
    {
      "cell_type": "code",
      "source": [
        "from re import sub\n",
        "## You have to calculate how much percentage u got in exam\n",
        "## 5 subject score\n",
        "\n",
        "sub1 = int(input(\"Enter the score of sub1: \"))\n",
        "sub2 = int(input(\"Enter the score of sub2: \"))\n",
        "sub3 = int(input(\"Enter the score of sub3: \"))\n",
        "sub4 = int(input(\"Enter the score of sub4: \"))\n",
        "sub5 = int(input(\"Enter the score of sub5: \"))\n",
        "total = sub1 + sub2 + sub3+ sub4+ sub5\n",
        "perc = (total / 500) * 100\n",
        "print(\"Total is: \", total)\n",
        "print(\"Percentage is: \", perc)"
      ],
      "metadata": {
        "colab": {
          "base_uri": "https://localhost:8080/"
        },
        "id": "RPC_6_7sDMgw",
        "outputId": "e5445dda-e0d4-4fa5-d11d-ae34251db01e"
      },
      "execution_count": 40,
      "outputs": [
        {
          "output_type": "stream",
          "name": "stdout",
          "text": [
            "Enter the score of sub1: 80\n",
            "Enter the score of sub2: 80\n",
            "Enter the score of sub3: 80\n",
            "Enter the score of sub4: 80\n",
            "Enter the score of sub5: 80\n",
            "Total is:  400\n",
            "Percentage is:  80.0\n"
          ]
        }
      ]
    },
    {
      "cell_type": "code",
      "source": [
        "# student to calculate the grade\n",
        "# above 90% you got grade A\n",
        "# 70 to 90 grade B\n",
        "# Below 70 grade C\n",
        "\n",
        "marks = int(input(\"Enter the marks: \"))\n",
        "if marks < 0 or marks > 100:\n",
        "  print(\"Invalid Marks\")\n",
        "elif marks >= 90 and marks < 100:\n",
        "    print(\"Grade A\")\n",
        "elif marks >= 70 and marks < 90:\n",
        "    print(\"Grade B\")\n",
        "else:\n",
        "    print(\"Grade C\")"
      ],
      "metadata": {
        "colab": {
          "base_uri": "https://localhost:8080/"
        },
        "id": "OFKm4zqCDMnI",
        "outputId": "05015a23-621b-4980-8d8b-a753ad9052e1"
      },
      "execution_count": 53,
      "outputs": [
        {
          "output_type": "stream",
          "name": "stdout",
          "text": [
            "Enter the marks: -1\n",
            "Invalid Marks\n"
          ]
        }
      ]
    },
    {
      "cell_type": "code",
      "source": [
        "# Cricinfo website IND vs END match\n",
        "# to create a prediction calculator: if the number of runs needed is more than the number of balls the probability of win is very low\n",
        "# but if the number runs is less than the balls then probability of win is very high\n",
        "\n",
        "number_of_runs_needed = int(input(\"Enter the number of runs needed: \"))\n",
        "number_of_balls = int(input(\"Enter the number of balls: \"))\n",
        "if number_of_runs_needed > number_of_balls:\n",
        "    print(\"Probability of win is very low\")\n",
        "else:\n",
        "    print(\"Probability of win is very high\")"
      ],
      "metadata": {
        "colab": {
          "base_uri": "https://localhost:8080/"
        },
        "id": "yNKDi5vqDMtX",
        "outputId": "481cf542-d77e-4722-9d07-0a0c17753ec3"
      },
      "execution_count": 55,
      "outputs": [
        {
          "output_type": "stream",
          "name": "stdout",
          "text": [
            "Enter the number of runs needed: 50\n",
            "Enter the number of balls: 56\n",
            "Probability of win is very high\n"
          ]
        }
      ]
    },
    {
      "cell_type": "code",
      "source": [],
      "metadata": {
        "id": "KpIoM2i2DMzn"
      },
      "execution_count": null,
      "outputs": []
    },
    {
      "cell_type": "code",
      "source": [],
      "metadata": {
        "id": "BfR6WfGmDM6I"
      },
      "execution_count": null,
      "outputs": []
    },
    {
      "cell_type": "code",
      "source": [],
      "metadata": {
        "id": "2ZI8_6msDNAY"
      },
      "execution_count": null,
      "outputs": []
    },
    {
      "cell_type": "code",
      "source": [],
      "metadata": {
        "id": "dDcBhrU9DNGo"
      },
      "execution_count": null,
      "outputs": []
    },
    {
      "cell_type": "code",
      "source": [],
      "metadata": {
        "id": "JQLFLvETDNM_"
      },
      "execution_count": null,
      "outputs": []
    },
    {
      "cell_type": "code",
      "source": [],
      "metadata": {
        "id": "pLgnc-0dDNTP"
      },
      "execution_count": null,
      "outputs": []
    },
    {
      "cell_type": "code",
      "source": [],
      "metadata": {
        "id": "kOy9LKUpDNZh"
      },
      "execution_count": null,
      "outputs": []
    },
    {
      "cell_type": "code",
      "source": [],
      "metadata": {
        "id": "j-5LuFjkDNf3"
      },
      "execution_count": null,
      "outputs": []
    },
    {
      "cell_type": "code",
      "source": [],
      "metadata": {
        "id": "ESvg3BgGDNmJ"
      },
      "execution_count": null,
      "outputs": []
    }
  ]
}