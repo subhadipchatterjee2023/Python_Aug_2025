{
  "nbformat": 4,
  "nbformat_minor": 0,
  "metadata": {
    "colab": {
      "provenance": [],
      "authorship_tag": "ABX9TyOVYY3O44+3c3XWrOctt6hH",
      "include_colab_link": true
    },
    "kernelspec": {
      "name": "python3",
      "display_name": "Python 3"
    },
    "language_info": {
      "name": "python"
    }
  },
  "cells": [
    {
      "cell_type": "markdown",
      "metadata": {
        "id": "view-in-github",
        "colab_type": "text"
      },
      "source": [
        "<a href=\"https://colab.research.google.com/github/subhadipchatterjee2023/Python_Aug_2025/blob/main/Python_Aug_2025_2.ipynb\" target=\"_parent\"><img src=\"https://colab.research.google.com/assets/colab-badge.svg\" alt=\"Open In Colab\"/></a>"
      ]
    },
    {
      "cell_type": "code",
      "source": [
        "# Imagine that you are a developer at the ICICI bank, you are developing an application which shows the total networth of the customer on the home page.\n",
        "# Assume that every customer has 5 instruments like:\n",
        "# the cash balance, fixed deposits, mutual funds, recurring deposits, ppf\n",
        "# Find out the total net worth.\n",
        "\n",
        "networth = 0\n",
        "cash = int(input(\"Enter the value: \"))\n",
        "networth = cash + networth\n",
        "fd = int(input(\"Enter the value: \"))\n",
        "networth = fd + networth\n",
        "mf = int(input(\"Enter the value: \"))\n",
        "networth = mf + networth\n",
        "rd = int(input(\"Enter the value: \"))\n",
        "networth = rd + networth\n",
        "ppf = int(input(\"Enter the value: \"))\n",
        "networth = ppf + networth\n",
        "print(networth)\n"
      ],
      "metadata": {
        "colab": {
          "base_uri": "https://localhost:8080/"
        },
        "id": "XEJKC2tURZQC",
        "outputId": "8f086246-d813-4741-fd4a-2ba79f374120"
      },
      "execution_count": null,
      "outputs": [
        {
          "output_type": "stream",
          "name": "stdout",
          "text": [
            "Enter the value: 1000000\n",
            "Enter the value: 1000\n",
            "Enter the value: 10000\n",
            "Enter the value: 0000\n",
            "Enter the value: 110001\n",
            "1121001\n"
          ]
        }
      ]
    },
    {
      "cell_type": "code",
      "source": [
        "i = 0\n",
        "networth = 0\n",
        "while i < 5:\n",
        "  value = int(input(\"Enter the value: \"))\n",
        "  networth = value + networth\n",
        "  i = i + 1\n",
        "\n",
        "print(networth)"
      ],
      "metadata": {
        "colab": {
          "base_uri": "https://localhost:8080/"
        },
        "id": "4eXV-aJxT7fH",
        "outputId": "989fde7c-24c7-4ecf-c7bf-62c1406709c1"
      },
      "execution_count": null,
      "outputs": [
        {
          "output_type": "stream",
          "name": "stdout",
          "text": [
            "Enter the value: 1000000\n",
            "Enter the value: 1000000\n",
            "Enter the value: 1000000\n",
            "Enter the value: 1000000\n",
            "Enter the value: 1000000\n",
            "5000000\n"
          ]
        }
      ]
    },
    {
      "cell_type": "code",
      "source": [
        "# Imagine that you are a math teacher, you wanted to show you students a table of 5.\n",
        "# print the table of 5\n",
        "\n",
        "i = 1\n",
        "while i < 11:\n",
        "    print(5 * i)\n",
        "    i += 1"
      ],
      "metadata": {
        "colab": {
          "base_uri": "https://localhost:8080/"
        },
        "id": "C8TIMUS3WeMy",
        "outputId": "6d6285bc-a30c-40e9-c1da-48ab74a83347"
      },
      "execution_count": null,
      "outputs": [
        {
          "output_type": "stream",
          "name": "stdout",
          "text": [
            "5\n",
            "10\n",
            "15\n",
            "20\n",
            "25\n",
            "30\n",
            "35\n",
            "40\n",
            "45\n",
            "50\n"
          ]
        }
      ]
    },
    {
      "cell_type": "code",
      "source": [
        "# you are a math teacher and you are explaining some newton-pascal number\n",
        "# 1\n",
        "# 45\n",
        "# 22\n",
        "# 5622\n",
        "# 4556\n",
        "# 3\n",
        "# 59\n",
        "# 392\n",
        "# 540\n",
        "# 30"
      ],
      "metadata": {
        "id": "Odvy6kHbYzas"
      },
      "execution_count": null,
      "outputs": []
    },
    {
      "cell_type": "code",
      "source": [
        "# Imagine that you are a game developer. you are developing a new game\n",
        "# called as fun game.\n",
        "# you have been asked the number to the user 5 times.\n",
        "# user can enter any positive number or negative number\n",
        "# For every positive number you will reward with 10 points\n",
        "# for every negative number you will not reward anything\n",
        "\n",
        "#  after the game completes, display the score to the user\n",
        "\n",
        "score = 0\n",
        "i = 0\n",
        "while i < 5:\n",
        "  num = int(input(\"Enter the Number: \"))\n",
        "  if num > 0:\n",
        "    score = score + 10\n",
        "  i = i + 1\n",
        "print(\"Your Score is: \", score)"
      ],
      "metadata": {
        "colab": {
          "base_uri": "https://localhost:8080/"
        },
        "id": "r6ERZHXJaEzW",
        "outputId": "6ab04523-1687-4cd8-c2a6-bbe8bc4143a1"
      },
      "execution_count": null,
      "outputs": [
        {
          "output_type": "stream",
          "name": "stdout",
          "text": [
            "Enter the Number: 5\n",
            "Enter the Number: 5\n",
            "Enter the Number: 5\n",
            "Enter the Number: 5\n",
            "Enter the Number: 5\n",
            "Your Score is:  50\n"
          ]
        }
      ]
    },
    {
      "cell_type": "code",
      "source": [
        "# Write a program to print all the even numbers between 1 to 100\n",
        "\n",
        "i = 1\n",
        "while i <= 100:\n",
        "  if i % 2 == 0:\n",
        "    print(i, end=\" \")\n",
        "  i = i + 1"
      ],
      "metadata": {
        "colab": {
          "base_uri": "https://localhost:8080/"
        },
        "id": "KquBvbfHaoaf",
        "outputId": "b7a212d6-1ee9-4bd0-b1f5-2e9a1ccdb742"
      },
      "execution_count": null,
      "outputs": [
        {
          "output_type": "stream",
          "name": "stdout",
          "text": [
            "2 4 6 8 10 12 14 16 18 20 22 24 26 28 30 32 34 36 38 40 42 44 46 48 50 52 54 56 58 60 62 64 66 68 70 72 74 76 78 80 82 84 86 88 90 92 94 96 98 100 "
          ]
        }
      ]
    },
    {
      "cell_type": "code",
      "source": [
        "# Write a program to print all the odd numbers between 1 to 100\n",
        "\n",
        "i = 1\n",
        "while i <= 100:\n",
        "  if i % 2 != 0:\n",
        "    print(i, end=\" \")\n",
        "  i+=1"
      ],
      "metadata": {
        "colab": {
          "base_uri": "https://localhost:8080/"
        },
        "id": "Ir_1swvlaoXH",
        "outputId": "0ae648f1-a127-4432-9e37-872a0912a550"
      },
      "execution_count": null,
      "outputs": [
        {
          "output_type": "stream",
          "name": "stdout",
          "text": [
            "1 3 5 7 9 11 13 15 17 19 21 23 25 27 29 31 33 35 37 39 41 43 45 47 49 51 53 55 57 59 61 63 65 67 69 71 73 75 77 79 81 83 85 87 89 91 93 95 97 99 "
          ]
        }
      ]
    },
    {
      "cell_type": "code",
      "source": [
        "# Imagine that you are an application developer and you are building the login functionality.\n",
        "# you ask the user to enter the password.\n",
        "# you check if password is correct or not. if it's correct you will say login successful.\n",
        "# if not correct then you allow him to try again.\n",
        "# but remember maximum 3 tries are allowed.\n",
        "# Assume right password is: admin\n",
        "\n",
        "correctPassword = 'admin'\n",
        "password = input(\"Enter the password: \")\n",
        "\n",
        "if password == 'admin':\n",
        "    print(\"Login Successful\")\n",
        "else:\n",
        "  password = input(\"Enter the password: \")\n",
        "  if password == \"admin\":\n",
        "    print(\"Login Successful\")\n",
        "  else:\n",
        "    password = input(\"Enter the password: \")\n",
        "    if password == \"admin\":\n",
        "      print(\"Login Successful\")\n",
        "    else:\n",
        "      print(\"You have reached the maximum limit\")\n"
      ],
      "metadata": {
        "colab": {
          "base_uri": "https://localhost:8080/"
        },
        "id": "jF-7T9mzaoUM",
        "outputId": "c993a6d2-4581-429e-a035-c28d6434ded7"
      },
      "execution_count": null,
      "outputs": [
        {
          "output_type": "stream",
          "name": "stdout",
          "text": [
            "Enter the password: jld\n",
            "Enter the password: lkn\n",
            "Enter the password: nh\n",
            "You have reached the maximum limit\n"
          ]
        }
      ]
    },
    {
      "cell_type": "code",
      "source": [
        "i = 0\n",
        "while i < 3:\n",
        "  password = input(\"Enter the password:: \")\n",
        "  if password == 'admin':\n",
        "    print(\"Login Successful\")\n",
        "    break\n",
        "  else:\n",
        "    print(\"Login Failed, Wrong Password\")\n",
        "  i = i + 1"
      ],
      "metadata": {
        "colab": {
          "base_uri": "https://localhost:8080/"
        },
        "id": "5YHlddQgaoQm",
        "outputId": "4b569c41-a32d-4771-b335-4d58ae4d69f8"
      },
      "execution_count": null,
      "outputs": [
        {
          "output_type": "stream",
          "name": "stdout",
          "text": [
            "Enter the password:: admin\n",
            "Login Successful\n"
          ]
        }
      ]
    },
    {
      "cell_type": "code",
      "source": [
        "i=0\n",
        "while(i < 3):\n",
        "    pwd=input(\"enter the password \")\n",
        "    if(pwd=='admin'):\n",
        "        print(\"Successful login\")\n",
        "        break\n",
        "    else:\n",
        "        print(\"unsuccessful login,please try again\")\n",
        "        i =i + 1\n",
        "        if(i == 3):\n",
        "            print(\"you have reached max limit\")"
      ],
      "metadata": {
        "colab": {
          "base_uri": "https://localhost:8080/"
        },
        "id": "RvpsbhtKjxhs",
        "outputId": "aaa6dfbd-e9ca-4615-94b8-a21994ed89ed"
      },
      "execution_count": null,
      "outputs": [
        {
          "output_type": "stream",
          "name": "stdout",
          "text": [
            "enter the password dmin\n",
            "unsuccessful login,please try again\n",
            "enter the password admin\n",
            "Successful login\n"
          ]
        }
      ]
    },
    {
      "cell_type": "code",
      "source": [
        "# you are building an e-learning app for kids.\n",
        "# it will ask the user to spell the word and it will continue running until and unless user enter the correct spelling of the word (\"Hello\")\n",
        "\n",
        "# user might entered correct spelling in first time, 10th time or may in 1000th time.\n",
        "\n",
        "i = 0\n",
        "while i < 10:\n",
        "  spell = input(\"Enter the spelling:: \")\n",
        "  if spell == \"Hello\":\n",
        "    break"
      ],
      "metadata": {
        "colab": {
          "base_uri": "https://localhost:8080/"
        },
        "id": "sUf3hmRqaoNE",
        "outputId": "df9d91a2-8f3b-4b7b-e902-b37a678c9505"
      },
      "execution_count": null,
      "outputs": [
        {
          "name": "stdout",
          "output_type": "stream",
          "text": [
            "Enter the spelling:: Hello\n"
          ]
        }
      ]
    },
    {
      "cell_type": "markdown",
      "source": [
        "# **List**"
      ],
      "metadata": {
        "id": "E0AD04jqc_RG"
      }
    },
    {
      "cell_type": "code",
      "source": [
        "items = [\"Subhadip\",\"Arpita\",\"Soumen\",\"Ranu\",\"Kripa\"]\n",
        "listOfIds = [1,2,3,4,5,6]\n",
        "print(items)\n",
        "print(type(items))\n",
        "print(len(items))\n",
        "print(len(listOfIds))"
      ],
      "metadata": {
        "colab": {
          "base_uri": "https://localhost:8080/"
        },
        "id": "trGdRA4hc9Af",
        "outputId": "01970e52-1aae-4061-f555-8afd4895dd63"
      },
      "execution_count": null,
      "outputs": [
        {
          "output_type": "stream",
          "name": "stdout",
          "text": [
            "['Subhadip', 'Arpita', 'Soumen', 'Ranu', 'Kripa']\n",
            "<class 'list'>\n",
            "5\n",
            "6\n"
          ]
        }
      ]
    },
    {
      "cell_type": "code",
      "source": [
        "# add elements into a list\n",
        "items.append(\"Chatterjee\")\n",
        "print(items)\n",
        "print(len(items))"
      ],
      "metadata": {
        "colab": {
          "base_uri": "https://localhost:8080/"
        },
        "id": "x-HTeb8JdkYO",
        "outputId": "c4398e1d-8930-4534-a2f8-3f723ec9a16b"
      },
      "execution_count": null,
      "outputs": [
        {
          "output_type": "stream",
          "name": "stdout",
          "text": [
            "['Subhadip', 'Arpita', 'Soumen', 'Ranu', 'Kripa', 'Chatterjee']\n",
            "6\n"
          ]
        }
      ]
    },
    {
      "cell_type": "code",
      "source": [
        "# remove element from a list\n",
        "items.pop()\n",
        "print(items)"
      ],
      "metadata": {
        "colab": {
          "base_uri": "https://localhost:8080/"
        },
        "id": "6lja5MPndz2l",
        "outputId": "782a6d3a-8350-4e9d-eadd-d6fbfe847f20"
      },
      "execution_count": null,
      "outputs": [
        {
          "output_type": "stream",
          "name": "stdout",
          "text": [
            "['Subhadip', 'Arpita', 'Soumen', 'Ranu', 'Kripa']\n"
          ]
        }
      ]
    },
    {
      "cell_type": "code",
      "source": [
        "items.pop(3)\n",
        "print(items)\n",
        "print(len(items))"
      ],
      "metadata": {
        "colab": {
          "base_uri": "https://localhost:8080/"
        },
        "id": "Tn8HmVfwd6wl",
        "outputId": "9eca92dc-3f7f-4df6-b3fa-948d9744e78b"
      },
      "execution_count": null,
      "outputs": [
        {
          "output_type": "stream",
          "name": "stdout",
          "text": [
            "['Subhadip', 'Arpita', 'Soumen']\n",
            "3\n"
          ]
        }
      ]
    },
    {
      "cell_type": "code",
      "source": [
        "items.append(\"Chatterjee\")\n",
        "print(items)\n",
        "print(len(items))"
      ],
      "metadata": {
        "colab": {
          "base_uri": "https://localhost:8080/"
        },
        "id": "DC1bfio7eRMU",
        "outputId": "cc71fc8b-6ea6-450d-9506-ac3f00b91434"
      },
      "execution_count": null,
      "outputs": [
        {
          "output_type": "stream",
          "name": "stdout",
          "text": [
            "['Subhadip', 'Arpita', 'Soumen', 'Kripa', 'Chatterjee', 'Chatterjee']\n",
            "6\n"
          ]
        }
      ]
    },
    {
      "cell_type": "code",
      "source": [
        "# changing the elements\n",
        "items[4] = \"Gopal\"\n",
        "print(items)\n",
        "print(items[2])"
      ],
      "metadata": {
        "colab": {
          "base_uri": "https://localhost:8080/"
        },
        "id": "LE2Y_f0Reh1s",
        "outputId": "76d204ff-4e96-415f-dd78-1d16373b2506"
      },
      "execution_count": null,
      "outputs": [
        {
          "output_type": "stream",
          "name": "stdout",
          "text": [
            "['Subhadip', 'Arpita', 'Soumen', 'Kripa', 'Gopal', 'Chatterjee']\n",
            "Soumen\n"
          ]
        }
      ]
    },
    {
      "cell_type": "code",
      "source": [
        "i = 0\n",
        "while i < len(items):\n",
        "  print(items[i])\n",
        "  i = i + 1"
      ],
      "metadata": {
        "colab": {
          "base_uri": "https://localhost:8080/"
        },
        "id": "09SJ44mZfCJO",
        "outputId": "8d336f2c-f8fb-4220-ea36-cccdec2aa5dd"
      },
      "execution_count": null,
      "outputs": [
        {
          "output_type": "stream",
          "name": "stdout",
          "text": [
            "Subhadip\n",
            "Arpita\n",
            "Soumen\n",
            "Kripa\n",
            "Gopal\n",
            "Chatterjee\n"
          ]
        }
      ]
    },
    {
      "cell_type": "code",
      "source": [
        "# Swap the position of 1st item element and 2nd element\n",
        "items = ['Subhadip', 'Arpita', 'Soumen', 'Kripa', 'Gopal', 'Chatterjee']\n",
        "temp = items[0]\n",
        "items[0] = items[1]\n",
        "items[1] = temp\n",
        "print(items)"
      ],
      "metadata": {
        "colab": {
          "base_uri": "https://localhost:8080/"
        },
        "id": "U1Ls8eGnfCFO",
        "outputId": "b591ed22-b568-4017-b913-b02bafb077fc"
      },
      "execution_count": null,
      "outputs": [
        {
          "output_type": "stream",
          "name": "stdout",
          "text": [
            "['Arpita', 'Subhadip', 'Soumen', 'Kripa', 'Gopal', 'Chatterjee']\n"
          ]
        }
      ]
    },
    {
      "cell_type": "code",
      "source": [
        "items = ['Subhadip', 'Arpita', 'Soumen', 'Kripa', 'Gopal', 'Chatterjee']\n",
        "for i in items:\n",
        "  print(i)"
      ],
      "metadata": {
        "colab": {
          "base_uri": "https://localhost:8080/"
        },
        "id": "707VnXcKfCDM",
        "outputId": "76412067-5023-4ae8-e56f-8af9700bedcf"
      },
      "execution_count": null,
      "outputs": [
        {
          "output_type": "stream",
          "name": "stdout",
          "text": [
            "Subhadip\n",
            "Arpita\n",
            "Soumen\n",
            "Kripa\n",
            "Gopal\n",
            "Chatterjee\n"
          ]
        }
      ]
    },
    {
      "cell_type": "code",
      "source": [
        "for i in range(5):\n",
        "  print(i)"
      ],
      "metadata": {
        "colab": {
          "base_uri": "https://localhost:8080/"
        },
        "id": "4DdfWY7ofB_y",
        "outputId": "17c301f7-69ec-47f3-aaaa-db7067353329"
      },
      "execution_count": null,
      "outputs": [
        {
          "output_type": "stream",
          "name": "stdout",
          "text": [
            "0\n",
            "1\n",
            "2\n",
            "3\n",
            "4\n"
          ]
        }
      ]
    },
    {
      "cell_type": "code",
      "source": [
        "for i in range(1, 11):\n",
        "  print(i)"
      ],
      "metadata": {
        "colab": {
          "base_uri": "https://localhost:8080/"
        },
        "id": "0XiCaPd8fB9U",
        "outputId": "387a8071-6a31-4a91-94c5-c7f9f4a9a1c1"
      },
      "execution_count": null,
      "outputs": [
        {
          "output_type": "stream",
          "name": "stdout",
          "text": [
            "1\n",
            "2\n",
            "3\n",
            "4\n",
            "5\n",
            "6\n",
            "7\n",
            "8\n",
            "9\n",
            "10\n"
          ]
        }
      ]
    },
    {
      "cell_type": "code",
      "source": [
        "for i in range(1, 11, 2):\n",
        "  print(i)"
      ],
      "metadata": {
        "colab": {
          "base_uri": "https://localhost:8080/"
        },
        "id": "mHEeCmhlfB6d",
        "outputId": "0a62ecc0-5c51-4c22-ac1b-9c6c5ab92bc7"
      },
      "execution_count": null,
      "outputs": [
        {
          "output_type": "stream",
          "name": "stdout",
          "text": [
            "1\n",
            "3\n",
            "5\n",
            "7\n",
            "9\n"
          ]
        }
      ]
    },
    {
      "cell_type": "code",
      "source": [
        "for i in range(1, 11, 3):\n",
        "  print(i)"
      ],
      "metadata": {
        "colab": {
          "base_uri": "https://localhost:8080/"
        },
        "id": "TpjssS3ZfB3K",
        "outputId": "080e7521-cd82-4ca9-a18a-b24faee22b8e"
      },
      "execution_count": null,
      "outputs": [
        {
          "output_type": "stream",
          "name": "stdout",
          "text": [
            "1\n",
            "4\n",
            "7\n",
            "10\n"
          ]
        }
      ]
    },
    {
      "cell_type": "code",
      "source": [
        "for i in range(1, 11, 4):\n",
        "  print(i)"
      ],
      "metadata": {
        "colab": {
          "base_uri": "https://localhost:8080/"
        },
        "id": "0_jXoa4MfB0R",
        "outputId": "1a98e1fc-891b-40c3-cec1-042bcc7bb5d1"
      },
      "execution_count": null,
      "outputs": [
        {
          "output_type": "stream",
          "name": "stdout",
          "text": [
            "1\n",
            "5\n",
            "9\n"
          ]
        }
      ]
    },
    {
      "cell_type": "code",
      "source": [
        "for i in range(1, 11, 5):\n",
        "  print(i)"
      ],
      "metadata": {
        "colab": {
          "base_uri": "https://localhost:8080/"
        },
        "id": "CShZ6dS-fBxM",
        "outputId": "05dbfb55-980e-44fe-e2d4-dd0b73019410"
      },
      "execution_count": null,
      "outputs": [
        {
          "output_type": "stream",
          "name": "stdout",
          "text": [
            "1\n",
            "6\n"
          ]
        }
      ]
    },
    {
      "cell_type": "code",
      "source": [
        "## Imagine that you are developing an e-commerce app like amazon.\n",
        "# You have been asked to develop the \"Add to cart\" functionality.\n",
        "# Assume your cart has to have fixed 5 items into it.\n",
        "# You have to ask the user, enter the amount of each item\n",
        "# Calculate the total amount.\n",
        "# At the end you display each item amount one by one and then its total\n",
        "# Example: input = 10, 20, 30, 40, 50\n",
        "# output\n",
        "# 10\n",
        "# 20\n",
        "# 30\n",
        "# 40\n",
        "# 50\n",
        "# 150\n",
        "\n",
        "items = []\n",
        "i = 0\n",
        "total = 0\n",
        "while i < 5:\n",
        "  value = int(input(\"Enter the amount:: \"))\n",
        "  items.append(value)\n",
        "  total = total + value\n",
        "  i = i + 1\n",
        "\n",
        "for item in items:\n",
        "  print(item)\n",
        "\n",
        "print(total)\n"
      ],
      "metadata": {
        "colab": {
          "base_uri": "https://localhost:8080/"
        },
        "id": "fONWqdC6fBt2",
        "outputId": "404c1a6a-7d83-40b1-f412-9a0dca6b822d"
      },
      "execution_count": null,
      "outputs": [
        {
          "output_type": "stream",
          "name": "stdout",
          "text": [
            "Enter the amount:: 10\n",
            "Enter the amount:: 20\n",
            "Enter the amount:: 30\n",
            "Enter the amount:: 40\n",
            "Enter the amount:: 50\n",
            "10\n",
            "20\n",
            "30\n",
            "40\n",
            "50\n",
            "150\n"
          ]
        }
      ]
    },
    {
      "cell_type": "code",
      "source": [
        "items = []\n",
        "i = 0\n",
        "total = 0\n",
        "for i in range(5):\n",
        "  value = int(input(\"Enter the amount:: \"))\n",
        "  items.append(value)\n",
        "  total = total + value\n",
        "\n",
        "for item in items:\n",
        "  print(item)\n",
        "\n",
        "print(total)"
      ],
      "metadata": {
        "colab": {
          "base_uri": "https://localhost:8080/"
        },
        "id": "nOY1vV27fBoO",
        "outputId": "41c968c9-2848-4013-cb2e-acb2e094fd12"
      },
      "execution_count": null,
      "outputs": [
        {
          "output_type": "stream",
          "name": "stdout",
          "text": [
            "Enter the amount:: 10\n",
            "Enter the amount:: 20\n",
            "Enter the amount:: 30\n",
            "Enter the amount:: 40\n",
            "Enter the amount:: 50\n",
            "10\n",
            "20\n",
            "30\n",
            "40\n",
            "50\n",
            "150\n"
          ]
        }
      ]
    },
    {
      "cell_type": "code",
      "source": [
        "# Assume you are making the portfolio calculator for trading app.\n",
        "# Here you asked the user the current holding amount for each share\n",
        "# You calculate the total worth of the portfolio.\n",
        "# You to tell which is the lowest performing stock\n",
        "\n",
        "# Assume that you are buying a stock and you have to put a stock buy order,\n",
        "# which is equal to 1% less than the current price of the stock.\n",
        "# Input : current stock price\n",
        "# Output : your buy order price\n",
        "\n"
      ],
      "metadata": {
        "id": "7yRoF5dKfBl4"
      },
      "execution_count": null,
      "outputs": []
    },
    {
      "cell_type": "code",
      "source": [
        "# Assume that you are building a AI agent, now we are writing a code for it.\n",
        "# I first go and fetch the youtube video script, if youtube video script contains\n",
        "# anything vulgar I would not take the next step. if no vulgarity in the script\n",
        "# I will publish the script as the post on Linkedin automatically."
      ],
      "metadata": {
        "id": "K76JhKTyfBgn"
      },
      "execution_count": null,
      "outputs": []
    },
    {
      "cell_type": "code",
      "source": [
        "# Assume you are making the portfolio calculator for trading app.\n",
        "# Here you asked the user to enter the price of each share (4 stock price)\n",
        "# You to tell which is the lowest performing stock\n",
        "\n",
        "pricelist = []\n",
        "for i in range(4):\n",
        "  price = int(input(\"Enter the stock price:: \"))\n",
        "  pricelist.append(price)\n",
        "print(min(pricelist))\n",
        "\n",
        "low = pricelist[0]\n",
        "for price in pricelist:\n",
        "  if price < low:\n",
        "    low = price\n",
        "print(low)"
      ],
      "metadata": {
        "colab": {
          "base_uri": "https://localhost:8080/"
        },
        "id": "0q4nDPjwfBdT",
        "outputId": "6e18cc2d-299b-4f30-fb10-344e0fe4ad57"
      },
      "execution_count": null,
      "outputs": [
        {
          "output_type": "stream",
          "name": "stdout",
          "text": [
            "Enter the stock price:: 10\n",
            "Enter the stock price:: 20\n",
            "Enter the stock price:: 0\n",
            "Enter the stock price:: 40\n",
            "0\n",
            "0\n"
          ]
        }
      ]
    },
    {
      "cell_type": "markdown",
      "source": [
        "# **Dictionary**"
      ],
      "metadata": {
        "id": "dQqw99G6kJTj"
      }
    },
    {
      "cell_type": "code",
      "source": [
        "items = {\n",
        "    \"Apple\":\"Red\",\n",
        "    \"Watermelon\":\"Green\",\n",
        "    \"Orange\":\"Orange\"\n",
        "}\n",
        "print(type(items))\n",
        "print(items['Apple'])"
      ],
      "metadata": {
        "colab": {
          "base_uri": "https://localhost:8080/"
        },
        "id": "YaPuGHSZjOdO",
        "outputId": "1dbc8b24-c3a5-4b2e-9ff7-ad2f040ebbe6"
      },
      "execution_count": null,
      "outputs": [
        {
          "output_type": "stream",
          "name": "stdout",
          "text": [
            "<class 'dict'>\n",
            "Red\n"
          ]
        }
      ]
    },
    {
      "cell_type": "code",
      "source": [
        "# Key in dictionary is unique\n",
        "# search is based on key, not based on value\n",
        "# Value is dictionary could be duplicate\n",
        "items[\"Apple\"] = \"Green\"\n",
        "items[\"NewApple\"] = \"Red\"\n",
        "print(items)"
      ],
      "metadata": {
        "colab": {
          "base_uri": "https://localhost:8080/"
        },
        "id": "WX4x8CuMjOad",
        "outputId": "ccc4bfa0-116c-4586-c9b8-4e7bd0473c81"
      },
      "execution_count": null,
      "outputs": [
        {
          "output_type": "stream",
          "name": "stdout",
          "text": [
            "{'Apple': 'Green', 'Watermelon': 'Green', 'Orange': 'Orange', 'NewApple': 'Red'}\n"
          ]
        }
      ]
    },
    {
      "cell_type": "code",
      "source": [
        "for key in items.keys():\n",
        "  print(key)"
      ],
      "metadata": {
        "colab": {
          "base_uri": "https://localhost:8080/"
        },
        "id": "PFXbAHPBjOUN",
        "outputId": "7063ca6f-6894-4aee-e108-fe62e45bba24"
      },
      "execution_count": null,
      "outputs": [
        {
          "output_type": "stream",
          "name": "stdout",
          "text": [
            "Apple\n",
            "Watermelon\n",
            "Orange\n",
            "NewApple\n"
          ]
        }
      ]
    },
    {
      "cell_type": "code",
      "source": [
        "for value in items.values():\n",
        "  print(value)"
      ],
      "metadata": {
        "colab": {
          "base_uri": "https://localhost:8080/"
        },
        "id": "i_Qa49jEjORC",
        "outputId": "0487d2a3-c829-46e3-897c-e91c60425208"
      },
      "execution_count": null,
      "outputs": [
        {
          "output_type": "stream",
          "name": "stdout",
          "text": [
            "Green\n",
            "Green\n",
            "Orange\n",
            "Red\n"
          ]
        }
      ]
    },
    {
      "cell_type": "code",
      "source": [
        "for key,value in items.items():\n",
        "  print(key, value)"
      ],
      "metadata": {
        "colab": {
          "base_uri": "https://localhost:8080/"
        },
        "id": "Zg07he6QjON6",
        "outputId": "5682fbd9-782d-4cef-93f2-4c143fcff27a"
      },
      "execution_count": null,
      "outputs": [
        {
          "output_type": "stream",
          "name": "stdout",
          "text": [
            "Apple Green\n",
            "Watermelon Green\n",
            "Orange Orange\n",
            "NewApple Red\n"
          ]
        }
      ]
    },
    {
      "cell_type": "code",
      "source": [
        "# Assume that you are an app developer for the Amazon. for their retail store they want to add 2 functionality\n",
        "# 1. ask the user to enter 1 coupon code and its discount.\n",
        "# 2. now once user finished buying ask him to enter the coupon code again for giving the discount\n",
        "# 3. And print the discount\n",
        "\n",
        "coupons = {}\n",
        "code = input(\"Enter the coupon code:: \")\n",
        "discount = int(input(\"Enter the discount:: \"))\n",
        "coupons[code] = discount\n",
        "\n",
        "key = input(\"Enter the coupon you have to get the discount:: \")\n",
        "print(coupons[key])"
      ],
      "metadata": {
        "colab": {
          "base_uri": "https://localhost:8080/"
        },
        "id": "z0wHLBIAjOKl",
        "outputId": "3b800cb5-faf5-4327-e735-fba254f7afe7"
      },
      "execution_count": null,
      "outputs": [
        {
          "output_type": "stream",
          "name": "stdout",
          "text": [
            "Enter the coupon code:: abc123\n",
            "Enter the discount:: 10\n",
            "Enter the coupon you have to get the discount:: abc123\n",
            "10\n"
          ]
        }
      ]
    },
    {
      "cell_type": "code",
      "source": [
        "# Assume that you are an app developer for the Amazon. for their retail store they want to add 2 functionality\n",
        "# 1. ask the manager to enter 5 coupon code and its discount.\n",
        "# 2. now once user finished buying ask him to enter the coupon code again for giving the discount\n",
        "# 3. And print the discount\n",
        "\n",
        "coupons = {}\n",
        "for i in range(5):\n",
        "  code = input(\"Enter the coupon code:: \")\n",
        "  discount = int(input(\"Enter the discount:: \"))\n",
        "  coupons[code] = discount\n",
        "\n",
        "print(coupons)\n",
        "\n",
        "key = input(\"Enter the coupon you have to get the discount:: \")\n",
        "print(coupons[key])"
      ],
      "metadata": {
        "colab": {
          "base_uri": "https://localhost:8080/"
        },
        "id": "AODwOY_tjOHJ",
        "outputId": "cc919e89-a67c-4e2f-e4c7-40907a8f5028"
      },
      "execution_count": null,
      "outputs": [
        {
          "output_type": "stream",
          "name": "stdout",
          "text": [
            "Enter the coupon code:: abc123\n",
            "Enter the discount:: 10\n",
            "Enter the coupon code:: xyz123\n",
            "Enter the discount:: 12\n",
            "Enter the coupon code:: def123\n",
            "Enter the discount:: 15\n",
            "Enter the coupon code:: qhe123\n",
            "Enter the discount:: 20\n",
            "Enter the coupon code:: ght123\n",
            "Enter the discount:: 25\n",
            "{'abc123': 10, 'xyz123': 12, 'def123': 15, 'qhe123': 20, 'ght123': 25}\n",
            "Enter the coupon you have to get the discount:: xyz123\n",
            "12\n"
          ]
        }
      ]
    },
    {
      "cell_type": "code",
      "source": [
        "# Imagine you are building the cricinfo app.\n",
        "# As you are admin of the app enter the name of 5 player and runs they score.\n",
        "# when a user comes in to check the scores, he will be asked to enter the name of the player and you will return the runs that specific player scored.\n",
        "\n",
        "scores = {}\n",
        "for i in range(5):\n",
        "  name = input(\"Enter the player's name:: \")\n",
        "  runs = int(input(\"Enter the runs scored:: \"))\n",
        "  scores[name] = runs\n",
        "print(scores)\n",
        "key = input(\"Enter the name of the player to check the runs:: \")\n",
        "print(scores[key])"
      ],
      "metadata": {
        "colab": {
          "base_uri": "https://localhost:8080/"
        },
        "id": "aX1wgtv-jOD2",
        "outputId": "0fce2a27-5e8c-4fb5-c3c0-cc7cea8d6a33"
      },
      "execution_count": null,
      "outputs": [
        {
          "output_type": "stream",
          "name": "stdout",
          "text": [
            "Enter the player's name:: virat\n",
            "Enter the runs scored:: 100\n",
            "Enter the player's name:: rohit\n",
            "Enter the runs scored:: 20\n",
            "Enter the player's name:: yuvi\n",
            "Enter the runs scored:: 20\n",
            "Enter the player's name:: dhoni\n",
            "Enter the runs scored:: 0\n",
            "Enter the player's name:: sach\n",
            "Enter the runs scored:: 2\n",
            "{'virat': 100, 'rohit': 20, 'yuvi': 20, 'dhoni': 0, 'sach': 2}\n",
            "Enter the name of the player to check the runs:: rohit\n",
            "20\n"
          ]
        }
      ]
    },
    {
      "cell_type": "markdown",
      "source": [
        "# **Libraries**"
      ],
      "metadata": {
        "id": "k_n2YFxfxbDb"
      }
    },
    {
      "cell_type": "code",
      "source": [
        "pip install pandas"
      ],
      "metadata": {
        "colab": {
          "base_uri": "https://localhost:8080/"
        },
        "id": "3AAMqN7GjOAp",
        "outputId": "0f83ac81-3c81-4fe7-df71-9d230fb1d3dd"
      },
      "execution_count": null,
      "outputs": [
        {
          "output_type": "stream",
          "name": "stdout",
          "text": [
            "Requirement already satisfied: pandas in /usr/local/lib/python3.11/dist-packages (2.2.2)\n",
            "Requirement already satisfied: numpy>=1.23.2 in /usr/local/lib/python3.11/dist-packages (from pandas) (2.0.2)\n",
            "Requirement already satisfied: python-dateutil>=2.8.2 in /usr/local/lib/python3.11/dist-packages (from pandas) (2.9.0.post0)\n",
            "Requirement already satisfied: pytz>=2020.1 in /usr/local/lib/python3.11/dist-packages (from pandas) (2025.2)\n",
            "Requirement already satisfied: tzdata>=2022.7 in /usr/local/lib/python3.11/dist-packages (from pandas) (2025.2)\n",
            "Requirement already satisfied: six>=1.5 in /usr/local/lib/python3.11/dist-packages (from python-dateutil>=2.8.2->pandas) (1.17.0)\n"
          ]
        }
      ]
    },
    {
      "cell_type": "code",
      "source": [
        "pip install langchain"
      ],
      "metadata": {
        "colab": {
          "base_uri": "https://localhost:8080/"
        },
        "id": "zkfl3aJmjN9F",
        "outputId": "ad1d7cbb-b580-43a8-e200-90078b23e665"
      },
      "execution_count": null,
      "outputs": [
        {
          "output_type": "stream",
          "name": "stdout",
          "text": [
            "Requirement already satisfied: langchain in /usr/local/lib/python3.11/dist-packages (0.3.27)\n",
            "Requirement already satisfied: langchain-core<1.0.0,>=0.3.72 in /usr/local/lib/python3.11/dist-packages (from langchain) (0.3.72)\n",
            "Requirement already satisfied: langchain-text-splitters<1.0.0,>=0.3.9 in /usr/local/lib/python3.11/dist-packages (from langchain) (0.3.9)\n",
            "Requirement already satisfied: langsmith>=0.1.17 in /usr/local/lib/python3.11/dist-packages (from langchain) (0.4.10)\n",
            "Requirement already satisfied: pydantic<3.0.0,>=2.7.4 in /usr/local/lib/python3.11/dist-packages (from langchain) (2.11.7)\n",
            "Requirement already satisfied: SQLAlchemy<3,>=1.4 in /usr/local/lib/python3.11/dist-packages (from langchain) (2.0.42)\n",
            "Requirement already satisfied: requests<3,>=2 in /usr/local/lib/python3.11/dist-packages (from langchain) (2.32.3)\n",
            "Requirement already satisfied: PyYAML>=5.3 in /usr/local/lib/python3.11/dist-packages (from langchain) (6.0.2)\n",
            "Requirement already satisfied: tenacity!=8.4.0,<10.0.0,>=8.1.0 in /usr/local/lib/python3.11/dist-packages (from langchain-core<1.0.0,>=0.3.72->langchain) (8.5.0)\n",
            "Requirement already satisfied: jsonpatch<2.0,>=1.33 in /usr/local/lib/python3.11/dist-packages (from langchain-core<1.0.0,>=0.3.72->langchain) (1.33)\n",
            "Requirement already satisfied: typing-extensions>=4.7 in /usr/local/lib/python3.11/dist-packages (from langchain-core<1.0.0,>=0.3.72->langchain) (4.14.1)\n",
            "Requirement already satisfied: packaging>=23.2 in /usr/local/lib/python3.11/dist-packages (from langchain-core<1.0.0,>=0.3.72->langchain) (25.0)\n",
            "Requirement already satisfied: httpx<1,>=0.23.0 in /usr/local/lib/python3.11/dist-packages (from langsmith>=0.1.17->langchain) (0.28.1)\n",
            "Requirement already satisfied: orjson>=3.9.14 in /usr/local/lib/python3.11/dist-packages (from langsmith>=0.1.17->langchain) (3.11.1)\n",
            "Requirement already satisfied: requests-toolbelt>=1.0.0 in /usr/local/lib/python3.11/dist-packages (from langsmith>=0.1.17->langchain) (1.0.0)\n",
            "Requirement already satisfied: zstandard>=0.23.0 in /usr/local/lib/python3.11/dist-packages (from langsmith>=0.1.17->langchain) (0.23.0)\n",
            "Requirement already satisfied: annotated-types>=0.6.0 in /usr/local/lib/python3.11/dist-packages (from pydantic<3.0.0,>=2.7.4->langchain) (0.7.0)\n",
            "Requirement already satisfied: pydantic-core==2.33.2 in /usr/local/lib/python3.11/dist-packages (from pydantic<3.0.0,>=2.7.4->langchain) (2.33.2)\n",
            "Requirement already satisfied: typing-inspection>=0.4.0 in /usr/local/lib/python3.11/dist-packages (from pydantic<3.0.0,>=2.7.4->langchain) (0.4.1)\n",
            "Requirement already satisfied: charset-normalizer<4,>=2 in /usr/local/lib/python3.11/dist-packages (from requests<3,>=2->langchain) (3.4.2)\n",
            "Requirement already satisfied: idna<4,>=2.5 in /usr/local/lib/python3.11/dist-packages (from requests<3,>=2->langchain) (3.10)\n",
            "Requirement already satisfied: urllib3<3,>=1.21.1 in /usr/local/lib/python3.11/dist-packages (from requests<3,>=2->langchain) (2.5.0)\n",
            "Requirement already satisfied: certifi>=2017.4.17 in /usr/local/lib/python3.11/dist-packages (from requests<3,>=2->langchain) (2025.8.3)\n",
            "Requirement already satisfied: greenlet>=1 in /usr/local/lib/python3.11/dist-packages (from SQLAlchemy<3,>=1.4->langchain) (3.2.3)\n",
            "Requirement already satisfied: anyio in /usr/local/lib/python3.11/dist-packages (from httpx<1,>=0.23.0->langsmith>=0.1.17->langchain) (4.10.0)\n",
            "Requirement already satisfied: httpcore==1.* in /usr/local/lib/python3.11/dist-packages (from httpx<1,>=0.23.0->langsmith>=0.1.17->langchain) (1.0.9)\n",
            "Requirement already satisfied: h11>=0.16 in /usr/local/lib/python3.11/dist-packages (from httpcore==1.*->httpx<1,>=0.23.0->langsmith>=0.1.17->langchain) (0.16.0)\n",
            "Requirement already satisfied: jsonpointer>=1.9 in /usr/local/lib/python3.11/dist-packages (from jsonpatch<2.0,>=1.33->langchain-core<1.0.0,>=0.3.72->langchain) (3.0.0)\n",
            "Requirement already satisfied: sniffio>=1.1 in /usr/local/lib/python3.11/dist-packages (from anyio->httpx<1,>=0.23.0->langsmith>=0.1.17->langchain) (1.3.1)\n"
          ]
        }
      ]
    },
    {
      "cell_type": "code",
      "source": [
        "import pandas as pd"
      ],
      "metadata": {
        "id": "82BNeMYmjN58"
      },
      "execution_count": null,
      "outputs": []
    },
    {
      "cell_type": "code",
      "source": [
        "df = pd.read_csv(\"/content/Sweepstakes_Acquisition_Report.csv\")"
      ],
      "metadata": {
        "id": "uuG8SAm3jNzE"
      },
      "execution_count": null,
      "outputs": []
    },
    {
      "cell_type": "code",
      "source": [
        "print(df)"
      ],
      "metadata": {
        "colab": {
          "base_uri": "https://localhost:8080/"
        },
        "id": "dQdV2Wl5jNvd",
        "outputId": "0183bc48-a93a-4233-f773-41444610996b"
      },
      "execution_count": null,
      "outputs": [
        {
          "output_type": "stream",
          "name": "stdout",
          "text": [
            "     External_ID                     Email Enrollment_to_Loyalty  \\\n",
            "0      145411916         kentg54@gmail.com            2025-07-10   \n",
            "1      145408494         tmiser3@yahoo.com            2025-07-10   \n",
            "2      145408088  kkwestervelt@hotmail.com            2025-07-10   \n",
            "3      145407375     jim.barth@comcast.net            2025-07-10   \n",
            "4      145403992     mphsweep3@yopmail.com            2025-07-10   \n",
            "..           ...                       ...                   ...   \n",
            "689      1376158       dondowell@yahoo.com            2024-01-20   \n",
            "690      1375490      hgeiling@hotmail.com            2024-01-20   \n",
            "691      1375019        lafonddt@yahoo.com            2024-01-20   \n",
            "692      1374117      crazy@crazyeagle.com            2024-01-20   \n",
            "693      1373839       aksam58@hotmail.com            2024-01-20   \n",
            "\n",
            "    Enrollment_to_Promotion  Days_in_to_Loyalty Acquisition_Channel  \n",
            "0                2025-07-10                   0            mpmemail  \n",
            "1                2025-07-10                   0            mpmemail  \n",
            "2                2025-07-10                   0            mpmemail  \n",
            "3                2025-07-10                   0            mpmemail  \n",
            "4                2025-07-10                   0            mpmemail  \n",
            "..                      ...                 ...                 ...  \n",
            "689              2025-07-10                 537          mpmwebsite  \n",
            "690              2025-07-01                 528          mpmwebsite  \n",
            "691              2025-07-01                 528          mpmwebsite  \n",
            "692              2025-07-01                 528          mpmwebsite  \n",
            "693              2025-07-01                 528          mpmwebsite  \n",
            "\n",
            "[694 rows x 6 columns]\n"
          ]
        }
      ]
    },
    {
      "cell_type": "code",
      "source": [
        "print(type(df))"
      ],
      "metadata": {
        "id": "jgNiQK7H2Nsp",
        "outputId": "b2752ea9-c4a4-48b1-9644-55f1159fc47b",
        "colab": {
          "base_uri": "https://localhost:8080/"
        }
      },
      "execution_count": null,
      "outputs": [
        {
          "output_type": "stream",
          "name": "stdout",
          "text": [
            "<class 'pandas.core.frame.DataFrame'>\n"
          ]
        }
      ]
    }
  ]
}