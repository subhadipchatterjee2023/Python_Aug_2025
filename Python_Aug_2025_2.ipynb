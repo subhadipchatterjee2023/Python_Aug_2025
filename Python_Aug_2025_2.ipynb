{
  "nbformat": 4,
  "nbformat_minor": 0,
  "metadata": {
    "colab": {
      "provenance": [],
      "authorship_tag": "ABX9TyOvQwC2LfDMVypzl0AeVks5",
      "include_colab_link": true
    },
    "kernelspec": {
      "name": "python3",
      "display_name": "Python 3"
    },
    "language_info": {
      "name": "python"
    }
  },
  "cells": [
    {
      "cell_type": "markdown",
      "metadata": {
        "id": "view-in-github",
        "colab_type": "text"
      },
      "source": [
        "<a href=\"https://colab.research.google.com/github/subhadipchatterjee2023/Python_Aug_2025/blob/main/Python_Aug_2025_2.ipynb\" target=\"_parent\"><img src=\"https://colab.research.google.com/assets/colab-badge.svg\" alt=\"Open In Colab\"/></a>"
      ]
    },
    {
      "cell_type": "code",
      "source": [
        "# Imagine that you are a developer at the ICICI bank, you are developing an application which shows the total networth of the customer on the home page.\n",
        "# Assume that every customer has 5 instruments like:\n",
        "# the cash balance, fixed deposits, mutual funds, recurring deposits, ppf\n",
        "# Find out the total net worth.\n",
        "\n",
        "networth = 0\n",
        "cash = int(input(\"Enter the value: \"))\n",
        "networth = cash + networth\n",
        "fd = int(input(\"Enter the value: \"))\n",
        "networth = fd + networth\n",
        "mf = int(input(\"Enter the value: \"))\n",
        "networth = mf + networth\n",
        "rd = int(input(\"Enter the value: \"))\n",
        "networth = rd + networth\n",
        "ppf = int(input(\"Enter the value: \"))\n",
        "networth = ppf + networth\n",
        "print(networth)\n"
      ],
      "metadata": {
        "colab": {
          "base_uri": "https://localhost:8080/"
        },
        "id": "XEJKC2tURZQC",
        "outputId": "8f086246-d813-4741-fd4a-2ba79f374120"
      },
      "execution_count": 3,
      "outputs": [
        {
          "output_type": "stream",
          "name": "stdout",
          "text": [
            "Enter the value: 1000000\n",
            "Enter the value: 1000\n",
            "Enter the value: 10000\n",
            "Enter the value: 0000\n",
            "Enter the value: 110001\n",
            "1121001\n"
          ]
        }
      ]
    },
    {
      "cell_type": "code",
      "source": [
        "i = 0\n",
        "networth = 0\n",
        "while i < 5:\n",
        "  value = int(input(\"Enter the value: \"))\n",
        "  networth = value + networth\n",
        "  i = i + 1\n",
        "\n",
        "print(networth)"
      ],
      "metadata": {
        "colab": {
          "base_uri": "https://localhost:8080/"
        },
        "id": "4eXV-aJxT7fH",
        "outputId": "989fde7c-24c7-4ecf-c7bf-62c1406709c1"
      },
      "execution_count": 4,
      "outputs": [
        {
          "output_type": "stream",
          "name": "stdout",
          "text": [
            "Enter the value: 1000000\n",
            "Enter the value: 1000000\n",
            "Enter the value: 1000000\n",
            "Enter the value: 1000000\n",
            "Enter the value: 1000000\n",
            "5000000\n"
          ]
        }
      ]
    },
    {
      "cell_type": "code",
      "source": [
        "# Imagine that you are a math teacher, you wanted to show you students a table of 5.\n",
        "# print the table of 5\n",
        "\n",
        "i = 1\n",
        "while i < 11:\n",
        "    print(5 * i)\n",
        "    i += 1"
      ],
      "metadata": {
        "colab": {
          "base_uri": "https://localhost:8080/"
        },
        "id": "C8TIMUS3WeMy",
        "outputId": "6d6285bc-a30c-40e9-c1da-48ab74a83347"
      },
      "execution_count": 8,
      "outputs": [
        {
          "output_type": "stream",
          "name": "stdout",
          "text": [
            "5\n",
            "10\n",
            "15\n",
            "20\n",
            "25\n",
            "30\n",
            "35\n",
            "40\n",
            "45\n",
            "50\n"
          ]
        }
      ]
    },
    {
      "cell_type": "code",
      "source": [
        "# you are a math teacher and you are explaining some newton-pascal number\n",
        "# 1\n",
        "# 45\n",
        "# 22\n",
        "# 5622\n",
        "# 4556\n",
        "# 3\n",
        "# 59\n",
        "# 392\n",
        "# 540\n",
        "# 30"
      ],
      "metadata": {
        "id": "Odvy6kHbYzas"
      },
      "execution_count": null,
      "outputs": []
    },
    {
      "cell_type": "code",
      "source": [
        "# Imagine that you are a game developer. you are developing a new game\n",
        "# called as fun game.\n",
        "# you have been asked the number to the user 5 times.\n",
        "# user can enter any positive number or negative number\n",
        "# For every positive number you will reward with 10 points\n",
        "# for every negative number you will not reward anything\n",
        "\n",
        "#  after the game completes, display the score to the user\n",
        "\n",
        "score = 0\n",
        "i = 0\n",
        "while i < 5:\n",
        "  num = int(input(\"Enter the Number: \"))\n",
        "  if num > 0:\n",
        "    score = score + 10\n",
        "  i = i + 1\n",
        "print(\"Your Score is: \", score)"
      ],
      "metadata": {
        "colab": {
          "base_uri": "https://localhost:8080/"
        },
        "id": "r6ERZHXJaEzW",
        "outputId": "6ab04523-1687-4cd8-c2a6-bbe8bc4143a1"
      },
      "execution_count": 11,
      "outputs": [
        {
          "output_type": "stream",
          "name": "stdout",
          "text": [
            "Enter the Number: 5\n",
            "Enter the Number: 5\n",
            "Enter the Number: 5\n",
            "Enter the Number: 5\n",
            "Enter the Number: 5\n",
            "Your Score is:  50\n"
          ]
        }
      ]
    },
    {
      "cell_type": "code",
      "source": [
        "# Write a program to print all the even numbers between 1 to 100\n",
        "\n",
        "i = 1\n",
        "while i <= 100:\n",
        "  if i % 2 == 0:\n",
        "    print(i, end=\" \")\n",
        "  i = i + 1"
      ],
      "metadata": {
        "colab": {
          "base_uri": "https://localhost:8080/"
        },
        "id": "KquBvbfHaoaf",
        "outputId": "b7a212d6-1ee9-4bd0-b1f5-2e9a1ccdb742"
      },
      "execution_count": 19,
      "outputs": [
        {
          "output_type": "stream",
          "name": "stdout",
          "text": [
            "2 4 6 8 10 12 14 16 18 20 22 24 26 28 30 32 34 36 38 40 42 44 46 48 50 52 54 56 58 60 62 64 66 68 70 72 74 76 78 80 82 84 86 88 90 92 94 96 98 100 "
          ]
        }
      ]
    },
    {
      "cell_type": "code",
      "source": [
        "# Write a program to print all the odd numbers between 1 to 100\n",
        "\n",
        "i = 1\n",
        "while i <= 100:\n",
        "  if i % 2 != 0:\n",
        "    print(i, end=\" \")\n",
        "  i+=1"
      ],
      "metadata": {
        "colab": {
          "base_uri": "https://localhost:8080/"
        },
        "id": "Ir_1swvlaoXH",
        "outputId": "0ae648f1-a127-4432-9e37-872a0912a550"
      },
      "execution_count": 21,
      "outputs": [
        {
          "output_type": "stream",
          "name": "stdout",
          "text": [
            "1 3 5 7 9 11 13 15 17 19 21 23 25 27 29 31 33 35 37 39 41 43 45 47 49 51 53 55 57 59 61 63 65 67 69 71 73 75 77 79 81 83 85 87 89 91 93 95 97 99 "
          ]
        }
      ]
    },
    {
      "cell_type": "code",
      "source": [
        "# Imagine that you are an application developer and you are building the login functionality.\n",
        "# you ask the user to enter the password.\n",
        "# you check if password is correct or not. if it's correct you will say login successful.\n",
        "# if not correct then you allow him to try again.\n",
        "# but remember maximum 3 tries are allowed.\n",
        "# Assume right password is: admin\n",
        "\n",
        "correctPassword = 'admin'\n",
        "password = input(\"Enter the password: \")\n",
        "\n",
        "if password == 'admin':\n",
        "    print(\"Login Successful\")\n",
        "else:\n",
        "  password = input(\"Enter the password: \")\n",
        "  if password == \"admin\":\n",
        "    print(\"Login Successful\")\n",
        "  else:\n",
        "    password = input(\"Enter the password: \")\n",
        "    if password == \"admin\":\n",
        "      print(\"Login Successful\")\n",
        "    else:\n",
        "      print(\"You have reached the maximum limit\")\n"
      ],
      "metadata": {
        "colab": {
          "base_uri": "https://localhost:8080/"
        },
        "id": "jF-7T9mzaoUM",
        "outputId": "c993a6d2-4581-429e-a035-c28d6434ded7"
      },
      "execution_count": 28,
      "outputs": [
        {
          "output_type": "stream",
          "name": "stdout",
          "text": [
            "Enter the password: jld\n",
            "Enter the password: lkn\n",
            "Enter the password: nh\n",
            "You have reached the maximum limit\n"
          ]
        }
      ]
    },
    {
      "cell_type": "code",
      "source": [
        "i = 0\n",
        "while i < 3:\n",
        "  password = input(\"Enter the password:: \")\n",
        "  if password == 'admin':\n",
        "    print(\"Login Successful\")\n",
        "    break\n",
        "  else:\n",
        "    print(\"Login Failed, Wrong Password\")\n",
        "  i = i + 1"
      ],
      "metadata": {
        "colab": {
          "base_uri": "https://localhost:8080/"
        },
        "id": "5YHlddQgaoQm",
        "outputId": "4b569c41-a32d-4771-b335-4d58ae4d69f8"
      },
      "execution_count": 35,
      "outputs": [
        {
          "output_type": "stream",
          "name": "stdout",
          "text": [
            "Enter the password:: admin\n",
            "Login Successful\n"
          ]
        }
      ]
    },
    {
      "cell_type": "code",
      "source": [
        "i=0\n",
        "while(i < 3):\n",
        "    pwd=input(\"enter the password \")\n",
        "    if(pwd=='admin'):\n",
        "        print(\"Successful login\")\n",
        "        break\n",
        "    else:\n",
        "        print(\"unsuccessful login,please try again\")\n",
        "        i =i + 1\n",
        "        if(i == 3):\n",
        "            print(\"you have reached max limit\")"
      ],
      "metadata": {
        "colab": {
          "base_uri": "https://localhost:8080/"
        },
        "id": "RvpsbhtKjxhs",
        "outputId": "aaa6dfbd-e9ca-4615-94b8-a21994ed89ed"
      },
      "execution_count": 40,
      "outputs": [
        {
          "output_type": "stream",
          "name": "stdout",
          "text": [
            "enter the password dmin\n",
            "unsuccessful login,please try again\n",
            "enter the password admin\n",
            "Successful login\n"
          ]
        }
      ]
    },
    {
      "cell_type": "code",
      "source": [
        "# you are building an e-learning app for kids.\n",
        "# it will ask the user to spell the word and it will continue running until and unless user enter the correct spelling of the word (\"Hello\")\n",
        "\n",
        "# user might entered correct spelling in first time, 10th time or may in 1000th time.\n",
        "\n",
        "i = 0\n",
        "while i < 10:\n",
        "  spell = input(\"Enter the spelling:: \")\n",
        "  if spell == \"Hello\":\n",
        "    break"
      ],
      "metadata": {
        "colab": {
          "base_uri": "https://localhost:8080/"
        },
        "id": "sUf3hmRqaoNE",
        "outputId": "df9d91a2-8f3b-4b7b-e902-b37a678c9505"
      },
      "execution_count": 43,
      "outputs": [
        {
          "name": "stdout",
          "output_type": "stream",
          "text": [
            "Enter the spelling:: Hello\n"
          ]
        }
      ]
    }
  ]
}