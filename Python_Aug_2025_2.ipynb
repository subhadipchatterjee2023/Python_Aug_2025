{
  "nbformat": 4,
  "nbformat_minor": 0,
  "metadata": {
    "colab": {
      "provenance": [],
      "authorship_tag": "ABX9TyMMx/ML+ZoieIVGJdIAzf/p",
      "include_colab_link": true
    },
    "kernelspec": {
      "name": "python3",
      "display_name": "Python 3"
    },
    "language_info": {
      "name": "python"
    }
  },
  "cells": [
    {
      "cell_type": "markdown",
      "metadata": {
        "id": "view-in-github",
        "colab_type": "text"
      },
      "source": [
        "<a href=\"https://colab.research.google.com/github/subhadipchatterjee2023/Python_Aug_2025/blob/main/Python_Aug_2025_2.ipynb\" target=\"_parent\"><img src=\"https://colab.research.google.com/assets/colab-badge.svg\" alt=\"Open In Colab\"/></a>"
      ]
    },
    {
      "cell_type": "code",
      "source": [
        "# Imagine that you are a developer at the ICICI bank, you are developing an application which shows the total networth of the customer on the home page.\n",
        "# Assume that every customer has 5 instruments like:\n",
        "# the cash balance, fixed deposits, mutual funds, recurring deposits, ppf\n",
        "# Find out the total net worth.\n",
        "\n",
        "networth = 0\n",
        "cash = int(input(\"Enter the value: \"))\n",
        "networth = cash + networth\n",
        "fd = int(input(\"Enter the value: \"))\n",
        "networth = fd + networth\n",
        "mf = int(input(\"Enter the value: \"))\n",
        "networth = mf + networth\n",
        "rd = int(input(\"Enter the value: \"))\n",
        "networth = rd + networth\n",
        "ppf = int(input(\"Enter the value: \"))\n",
        "networth = ppf + networth\n",
        "print(networth)\n"
      ],
      "metadata": {
        "colab": {
          "base_uri": "https://localhost:8080/"
        },
        "id": "XEJKC2tURZQC",
        "outputId": "8f086246-d813-4741-fd4a-2ba79f374120"
      },
      "execution_count": null,
      "outputs": [
        {
          "output_type": "stream",
          "name": "stdout",
          "text": [
            "Enter the value: 1000000\n",
            "Enter the value: 1000\n",
            "Enter the value: 10000\n",
            "Enter the value: 0000\n",
            "Enter the value: 110001\n",
            "1121001\n"
          ]
        }
      ]
    },
    {
      "cell_type": "code",
      "source": [
        "i = 0\n",
        "networth = 0\n",
        "while i < 5:\n",
        "  value = int(input(\"Enter the value: \"))\n",
        "  networth = value + networth\n",
        "  i = i + 1\n",
        "\n",
        "print(networth)"
      ],
      "metadata": {
        "colab": {
          "base_uri": "https://localhost:8080/"
        },
        "id": "4eXV-aJxT7fH",
        "outputId": "989fde7c-24c7-4ecf-c7bf-62c1406709c1"
      },
      "execution_count": null,
      "outputs": [
        {
          "output_type": "stream",
          "name": "stdout",
          "text": [
            "Enter the value: 1000000\n",
            "Enter the value: 1000000\n",
            "Enter the value: 1000000\n",
            "Enter the value: 1000000\n",
            "Enter the value: 1000000\n",
            "5000000\n"
          ]
        }
      ]
    },
    {
      "cell_type": "code",
      "source": [
        "# Imagine that you are a math teacher, you wanted to show you students a table of 5.\n",
        "# print the table of 5\n",
        "\n",
        "i = 1\n",
        "while i < 11:\n",
        "    print(5 * i)\n",
        "    i += 1"
      ],
      "metadata": {
        "colab": {
          "base_uri": "https://localhost:8080/"
        },
        "id": "C8TIMUS3WeMy",
        "outputId": "6d6285bc-a30c-40e9-c1da-48ab74a83347"
      },
      "execution_count": null,
      "outputs": [
        {
          "output_type": "stream",
          "name": "stdout",
          "text": [
            "5\n",
            "10\n",
            "15\n",
            "20\n",
            "25\n",
            "30\n",
            "35\n",
            "40\n",
            "45\n",
            "50\n"
          ]
        }
      ]
    },
    {
      "cell_type": "code",
      "source": [
        "# you are a math teacher and you are explaining some newton-pascal number\n",
        "# 1\n",
        "# 45\n",
        "# 22\n",
        "# 5622\n",
        "# 4556\n",
        "# 3\n",
        "# 59\n",
        "# 392\n",
        "# 540\n",
        "# 30"
      ],
      "metadata": {
        "id": "Odvy6kHbYzas"
      },
      "execution_count": null,
      "outputs": []
    },
    {
      "cell_type": "code",
      "source": [
        "# Imagine that you are a game developer. you are developing a new game\n",
        "# called as fun game.\n",
        "# you have been asked the number to the user 5 times.\n",
        "# user can enter any positive number or negative number\n",
        "# For every positive number you will reward with 10 points\n",
        "# for every negative number you will not reward anything\n",
        "\n",
        "#  after the game completes, display the score to the user\n",
        "\n",
        "score = 0\n",
        "i = 0\n",
        "while i < 5:\n",
        "  num = int(input(\"Enter the Number: \"))\n",
        "  if num > 0:\n",
        "    score = score + 10\n",
        "  i = i + 1\n",
        "print(\"Your Score is: \", score)"
      ],
      "metadata": {
        "colab": {
          "base_uri": "https://localhost:8080/"
        },
        "id": "r6ERZHXJaEzW",
        "outputId": "6ab04523-1687-4cd8-c2a6-bbe8bc4143a1"
      },
      "execution_count": null,
      "outputs": [
        {
          "output_type": "stream",
          "name": "stdout",
          "text": [
            "Enter the Number: 5\n",
            "Enter the Number: 5\n",
            "Enter the Number: 5\n",
            "Enter the Number: 5\n",
            "Enter the Number: 5\n",
            "Your Score is:  50\n"
          ]
        }
      ]
    },
    {
      "cell_type": "code",
      "source": [
        "# Write a program to print all the even numbers between 1 to 100\n",
        "\n",
        "i = 1\n",
        "while i <= 100:\n",
        "  if i % 2 == 0:\n",
        "    print(i, end=\" \")\n",
        "  i = i + 1"
      ],
      "metadata": {
        "colab": {
          "base_uri": "https://localhost:8080/"
        },
        "id": "KquBvbfHaoaf",
        "outputId": "b7a212d6-1ee9-4bd0-b1f5-2e9a1ccdb742"
      },
      "execution_count": null,
      "outputs": [
        {
          "output_type": "stream",
          "name": "stdout",
          "text": [
            "2 4 6 8 10 12 14 16 18 20 22 24 26 28 30 32 34 36 38 40 42 44 46 48 50 52 54 56 58 60 62 64 66 68 70 72 74 76 78 80 82 84 86 88 90 92 94 96 98 100 "
          ]
        }
      ]
    },
    {
      "cell_type": "code",
      "source": [
        "# Write a program to print all the odd numbers between 1 to 100\n",
        "\n",
        "i = 1\n",
        "while i <= 100:\n",
        "  if i % 2 != 0:\n",
        "    print(i, end=\" \")\n",
        "  i+=1"
      ],
      "metadata": {
        "colab": {
          "base_uri": "https://localhost:8080/"
        },
        "id": "Ir_1swvlaoXH",
        "outputId": "0ae648f1-a127-4432-9e37-872a0912a550"
      },
      "execution_count": null,
      "outputs": [
        {
          "output_type": "stream",
          "name": "stdout",
          "text": [
            "1 3 5 7 9 11 13 15 17 19 21 23 25 27 29 31 33 35 37 39 41 43 45 47 49 51 53 55 57 59 61 63 65 67 69 71 73 75 77 79 81 83 85 87 89 91 93 95 97 99 "
          ]
        }
      ]
    },
    {
      "cell_type": "code",
      "source": [
        "# Imagine that you are an application developer and you are building the login functionality.\n",
        "# you ask the user to enter the password.\n",
        "# you check if password is correct or not. if it's correct you will say login successful.\n",
        "# if not correct then you allow him to try again.\n",
        "# but remember maximum 3 tries are allowed.\n",
        "# Assume right password is: admin\n",
        "\n",
        "correctPassword = 'admin'\n",
        "password = input(\"Enter the password: \")\n",
        "\n",
        "if password == 'admin':\n",
        "    print(\"Login Successful\")\n",
        "else:\n",
        "  password = input(\"Enter the password: \")\n",
        "  if password == \"admin\":\n",
        "    print(\"Login Successful\")\n",
        "  else:\n",
        "    password = input(\"Enter the password: \")\n",
        "    if password == \"admin\":\n",
        "      print(\"Login Successful\")\n",
        "    else:\n",
        "      print(\"You have reached the maximum limit\")\n"
      ],
      "metadata": {
        "colab": {
          "base_uri": "https://localhost:8080/"
        },
        "id": "jF-7T9mzaoUM",
        "outputId": "c993a6d2-4581-429e-a035-c28d6434ded7"
      },
      "execution_count": null,
      "outputs": [
        {
          "output_type": "stream",
          "name": "stdout",
          "text": [
            "Enter the password: jld\n",
            "Enter the password: lkn\n",
            "Enter the password: nh\n",
            "You have reached the maximum limit\n"
          ]
        }
      ]
    },
    {
      "cell_type": "code",
      "source": [
        "i = 0\n",
        "while i < 3:\n",
        "  password = input(\"Enter the password:: \")\n",
        "  if password == 'admin':\n",
        "    print(\"Login Successful\")\n",
        "    break\n",
        "  else:\n",
        "    print(\"Login Failed, Wrong Password\")\n",
        "  i = i + 1"
      ],
      "metadata": {
        "colab": {
          "base_uri": "https://localhost:8080/"
        },
        "id": "5YHlddQgaoQm",
        "outputId": "4b569c41-a32d-4771-b335-4d58ae4d69f8"
      },
      "execution_count": null,
      "outputs": [
        {
          "output_type": "stream",
          "name": "stdout",
          "text": [
            "Enter the password:: admin\n",
            "Login Successful\n"
          ]
        }
      ]
    },
    {
      "cell_type": "code",
      "source": [
        "i=0\n",
        "while(i < 3):\n",
        "    pwd=input(\"enter the password \")\n",
        "    if(pwd=='admin'):\n",
        "        print(\"Successful login\")\n",
        "        break\n",
        "    else:\n",
        "        print(\"unsuccessful login,please try again\")\n",
        "        i =i + 1\n",
        "        if(i == 3):\n",
        "            print(\"you have reached max limit\")"
      ],
      "metadata": {
        "colab": {
          "base_uri": "https://localhost:8080/"
        },
        "id": "RvpsbhtKjxhs",
        "outputId": "aaa6dfbd-e9ca-4615-94b8-a21994ed89ed"
      },
      "execution_count": null,
      "outputs": [
        {
          "output_type": "stream",
          "name": "stdout",
          "text": [
            "enter the password dmin\n",
            "unsuccessful login,please try again\n",
            "enter the password admin\n",
            "Successful login\n"
          ]
        }
      ]
    },
    {
      "cell_type": "code",
      "source": [
        "# you are building an e-learning app for kids.\n",
        "# it will ask the user to spell the word and it will continue running until and unless user enter the correct spelling of the word (\"Hello\")\n",
        "\n",
        "# user might entered correct spelling in first time, 10th time or may in 1000th time.\n",
        "\n",
        "i = 0\n",
        "while i < 10:\n",
        "  spell = input(\"Enter the spelling:: \")\n",
        "  if spell == \"Hello\":\n",
        "    break"
      ],
      "metadata": {
        "colab": {
          "base_uri": "https://localhost:8080/"
        },
        "id": "sUf3hmRqaoNE",
        "outputId": "df9d91a2-8f3b-4b7b-e902-b37a678c9505"
      },
      "execution_count": null,
      "outputs": [
        {
          "name": "stdout",
          "output_type": "stream",
          "text": [
            "Enter the spelling:: Hello\n"
          ]
        }
      ]
    },
    {
      "cell_type": "markdown",
      "source": [
        "# **List**"
      ],
      "metadata": {
        "id": "E0AD04jqc_RG"
      }
    },
    {
      "cell_type": "code",
      "source": [
        "items = [\"Subhadip\",\"Arpita\",\"Soumen\",\"Ranu\",\"Kripa\"]\n",
        "listOfIds = [1,2,3,4,5,6]\n",
        "print(items)\n",
        "print(type(items))\n",
        "print(len(items))\n",
        "print(len(listOfIds))"
      ],
      "metadata": {
        "colab": {
          "base_uri": "https://localhost:8080/"
        },
        "id": "trGdRA4hc9Af",
        "outputId": "01970e52-1aae-4061-f555-8afd4895dd63"
      },
      "execution_count": 3,
      "outputs": [
        {
          "output_type": "stream",
          "name": "stdout",
          "text": [
            "['Subhadip', 'Arpita', 'Soumen', 'Ranu', 'Kripa']\n",
            "<class 'list'>\n",
            "5\n",
            "6\n"
          ]
        }
      ]
    },
    {
      "cell_type": "code",
      "source": [
        "# add elements into a list\n",
        "items.append(\"Chatterjee\")\n",
        "print(items)\n",
        "print(len(items))"
      ],
      "metadata": {
        "colab": {
          "base_uri": "https://localhost:8080/"
        },
        "id": "x-HTeb8JdkYO",
        "outputId": "c4398e1d-8930-4534-a2f8-3f723ec9a16b"
      },
      "execution_count": 4,
      "outputs": [
        {
          "output_type": "stream",
          "name": "stdout",
          "text": [
            "['Subhadip', 'Arpita', 'Soumen', 'Ranu', 'Kripa', 'Chatterjee']\n",
            "6\n"
          ]
        }
      ]
    },
    {
      "cell_type": "code",
      "source": [
        "# remove element from a list\n",
        "items.pop()\n",
        "print(items)"
      ],
      "metadata": {
        "colab": {
          "base_uri": "https://localhost:8080/"
        },
        "id": "6lja5MPndz2l",
        "outputId": "782a6d3a-8350-4e9d-eadd-d6fbfe847f20"
      },
      "execution_count": 5,
      "outputs": [
        {
          "output_type": "stream",
          "name": "stdout",
          "text": [
            "['Subhadip', 'Arpita', 'Soumen', 'Ranu', 'Kripa']\n"
          ]
        }
      ]
    },
    {
      "cell_type": "code",
      "source": [
        "items.pop(3)\n",
        "print(items)\n",
        "print(len(items))"
      ],
      "metadata": {
        "colab": {
          "base_uri": "https://localhost:8080/"
        },
        "id": "Tn8HmVfwd6wl",
        "outputId": "9eca92dc-3f7f-4df6-b3fa-948d9744e78b"
      },
      "execution_count": 11,
      "outputs": [
        {
          "output_type": "stream",
          "name": "stdout",
          "text": [
            "['Subhadip', 'Arpita', 'Soumen']\n",
            "3\n"
          ]
        }
      ]
    },
    {
      "cell_type": "code",
      "source": [
        "items.append(\"Chatterjee\")\n",
        "print(items)\n",
        "print(len(items))"
      ],
      "metadata": {
        "colab": {
          "base_uri": "https://localhost:8080/"
        },
        "id": "DC1bfio7eRMU",
        "outputId": "cc71fc8b-6ea6-450d-9506-ac3f00b91434"
      },
      "execution_count": 15,
      "outputs": [
        {
          "output_type": "stream",
          "name": "stdout",
          "text": [
            "['Subhadip', 'Arpita', 'Soumen', 'Kripa', 'Chatterjee', 'Chatterjee']\n",
            "6\n"
          ]
        }
      ]
    },
    {
      "cell_type": "code",
      "source": [
        "# changing the elements\n",
        "items[4] = \"Gopal\"\n",
        "print(items)\n",
        "print(items[2])"
      ],
      "metadata": {
        "colab": {
          "base_uri": "https://localhost:8080/"
        },
        "id": "LE2Y_f0Reh1s",
        "outputId": "76d204ff-4e96-415f-dd78-1d16373b2506"
      },
      "execution_count": 18,
      "outputs": [
        {
          "output_type": "stream",
          "name": "stdout",
          "text": [
            "['Subhadip', 'Arpita', 'Soumen', 'Kripa', 'Gopal', 'Chatterjee']\n",
            "Soumen\n"
          ]
        }
      ]
    },
    {
      "cell_type": "code",
      "source": [
        "i = 0\n",
        "while i < len(items):\n",
        "  print(items[i])\n",
        "  i = i + 1"
      ],
      "metadata": {
        "colab": {
          "base_uri": "https://localhost:8080/"
        },
        "id": "09SJ44mZfCJO",
        "outputId": "8d336f2c-f8fb-4220-ea36-cccdec2aa5dd"
      },
      "execution_count": 26,
      "outputs": [
        {
          "output_type": "stream",
          "name": "stdout",
          "text": [
            "Subhadip\n",
            "Arpita\n",
            "Soumen\n",
            "Kripa\n",
            "Gopal\n",
            "Chatterjee\n"
          ]
        }
      ]
    },
    {
      "cell_type": "code",
      "source": [
        "# Swap the position of 1st item element and 2nd element\n",
        "items = ['Subhadip', 'Arpita', 'Soumen', 'Kripa', 'Gopal', 'Chatterjee']\n",
        "temp = items[0]\n",
        "items[0] = items[1]\n",
        "items[1] = temp\n",
        "print(items)"
      ],
      "metadata": {
        "colab": {
          "base_uri": "https://localhost:8080/"
        },
        "id": "U1Ls8eGnfCFO",
        "outputId": "b591ed22-b568-4017-b913-b02bafb077fc"
      },
      "execution_count": 30,
      "outputs": [
        {
          "output_type": "stream",
          "name": "stdout",
          "text": [
            "['Arpita', 'Subhadip', 'Soumen', 'Kripa', 'Gopal', 'Chatterjee']\n"
          ]
        }
      ]
    },
    {
      "cell_type": "code",
      "source": [
        "items = ['Subhadip', 'Arpita', 'Soumen', 'Kripa', 'Gopal', 'Chatterjee']\n",
        "for i in items:\n",
        "  print(i)"
      ],
      "metadata": {
        "colab": {
          "base_uri": "https://localhost:8080/"
        },
        "id": "707VnXcKfCDM",
        "outputId": "76412067-5023-4ae8-e56f-8af9700bedcf"
      },
      "execution_count": 31,
      "outputs": [
        {
          "output_type": "stream",
          "name": "stdout",
          "text": [
            "Subhadip\n",
            "Arpita\n",
            "Soumen\n",
            "Kripa\n",
            "Gopal\n",
            "Chatterjee\n"
          ]
        }
      ]
    },
    {
      "cell_type": "code",
      "source": [
        "for i in range(5):\n",
        "  print(i)"
      ],
      "metadata": {
        "colab": {
          "base_uri": "https://localhost:8080/"
        },
        "id": "4DdfWY7ofB_y",
        "outputId": "17c301f7-69ec-47f3-aaaa-db7067353329"
      },
      "execution_count": 36,
      "outputs": [
        {
          "output_type": "stream",
          "name": "stdout",
          "text": [
            "0\n",
            "1\n",
            "2\n",
            "3\n",
            "4\n"
          ]
        }
      ]
    },
    {
      "cell_type": "code",
      "source": [
        "for i in range(1, 11):\n",
        "  print(i)"
      ],
      "metadata": {
        "colab": {
          "base_uri": "https://localhost:8080/"
        },
        "id": "0XiCaPd8fB9U",
        "outputId": "387a8071-6a31-4a91-94c5-c7f9f4a9a1c1"
      },
      "execution_count": 39,
      "outputs": [
        {
          "output_type": "stream",
          "name": "stdout",
          "text": [
            "1\n",
            "2\n",
            "3\n",
            "4\n",
            "5\n",
            "6\n",
            "7\n",
            "8\n",
            "9\n",
            "10\n"
          ]
        }
      ]
    },
    {
      "cell_type": "code",
      "source": [
        "for i in range(1, 11, 2):\n",
        "  print(i)"
      ],
      "metadata": {
        "colab": {
          "base_uri": "https://localhost:8080/"
        },
        "id": "mHEeCmhlfB6d",
        "outputId": "0a62ecc0-5c51-4c22-ac1b-9c6c5ab92bc7"
      },
      "execution_count": 40,
      "outputs": [
        {
          "output_type": "stream",
          "name": "stdout",
          "text": [
            "1\n",
            "3\n",
            "5\n",
            "7\n",
            "9\n"
          ]
        }
      ]
    },
    {
      "cell_type": "code",
      "source": [
        "for i in range(1, 11, 3):\n",
        "  print(i)"
      ],
      "metadata": {
        "colab": {
          "base_uri": "https://localhost:8080/"
        },
        "id": "TpjssS3ZfB3K",
        "outputId": "080e7521-cd82-4ca9-a18a-b24faee22b8e"
      },
      "execution_count": 41,
      "outputs": [
        {
          "output_type": "stream",
          "name": "stdout",
          "text": [
            "1\n",
            "4\n",
            "7\n",
            "10\n"
          ]
        }
      ]
    },
    {
      "cell_type": "code",
      "source": [
        "for i in range(1, 11, 4):\n",
        "  print(i)"
      ],
      "metadata": {
        "colab": {
          "base_uri": "https://localhost:8080/"
        },
        "id": "0_jXoa4MfB0R",
        "outputId": "1a98e1fc-891b-40c3-cec1-042bcc7bb5d1"
      },
      "execution_count": 42,
      "outputs": [
        {
          "output_type": "stream",
          "name": "stdout",
          "text": [
            "1\n",
            "5\n",
            "9\n"
          ]
        }
      ]
    },
    {
      "cell_type": "code",
      "source": [
        "for i in range(1, 11, 5):\n",
        "  print(i)"
      ],
      "metadata": {
        "colab": {
          "base_uri": "https://localhost:8080/"
        },
        "id": "CShZ6dS-fBxM",
        "outputId": "05dbfb55-980e-44fe-e2d4-dd0b73019410"
      },
      "execution_count": 43,
      "outputs": [
        {
          "output_type": "stream",
          "name": "stdout",
          "text": [
            "1\n",
            "6\n"
          ]
        }
      ]
    },
    {
      "cell_type": "code",
      "source": [
        "## Imagine that you are developing an e-commerce app like amazon.\n",
        "# You have been asked to develop the \"Add to cart\" functionality.\n",
        "# Assume your cart has to have fixed 5 items into it.\n",
        "# You have to ask the user, enter the amount of each item\n",
        "# Calculate the total amount.\n",
        "# At the end you display each item amount one by one and then its total\n",
        "# Example: input = 10, 20, 30, 40, 50\n",
        "# output\n",
        "# 10\n",
        "# 20\n",
        "# 30\n",
        "# 40\n",
        "# 50\n",
        "# 150\n",
        "\n",
        "items = []\n",
        "i = 0\n",
        "total = 0\n",
        "while i < 5:\n",
        "  value = int(input(\"Enter the amount:: \"))\n",
        "  items.append(value)\n",
        "  total = total + value\n",
        "  i = i + 1\n",
        "\n",
        "for item in items:\n",
        "  print(item)\n",
        "\n",
        "print(total)\n"
      ],
      "metadata": {
        "colab": {
          "base_uri": "https://localhost:8080/"
        },
        "id": "fONWqdC6fBt2",
        "outputId": "404c1a6a-7d83-40b1-f412-9a0dca6b822d"
      },
      "execution_count": 53,
      "outputs": [
        {
          "output_type": "stream",
          "name": "stdout",
          "text": [
            "Enter the amount:: 10\n",
            "Enter the amount:: 20\n",
            "Enter the amount:: 30\n",
            "Enter the amount:: 40\n",
            "Enter the amount:: 50\n",
            "10\n",
            "20\n",
            "30\n",
            "40\n",
            "50\n",
            "150\n"
          ]
        }
      ]
    },
    {
      "cell_type": "code",
      "source": [
        "items = []\n",
        "i = 0\n",
        "total = 0\n",
        "for i in range(5):\n",
        "  value = int(input(\"Enter the amount:: \"))\n",
        "  items.append(value)\n",
        "  total = total + value\n",
        "\n",
        "for item in items:\n",
        "  print(item)\n",
        "\n",
        "print(total)"
      ],
      "metadata": {
        "colab": {
          "base_uri": "https://localhost:8080/"
        },
        "id": "nOY1vV27fBoO",
        "outputId": "41c968c9-2848-4013-cb2e-acb2e094fd12"
      },
      "execution_count": 57,
      "outputs": [
        {
          "output_type": "stream",
          "name": "stdout",
          "text": [
            "Enter the amount:: 10\n",
            "Enter the amount:: 20\n",
            "Enter the amount:: 30\n",
            "Enter the amount:: 40\n",
            "Enter the amount:: 50\n",
            "10\n",
            "20\n",
            "30\n",
            "40\n",
            "50\n",
            "150\n"
          ]
        }
      ]
    },
    {
      "cell_type": "code",
      "source": [
        "# Assume you are making the portfolio calculator for trading app.\n",
        "# Here you asked the user the current holding amount for each share\n",
        "# You calculate the total worth of the portfolio.\n",
        "# You to tell which is the lowest performing stock\n",
        "\n",
        "# Assume that you are buying a stock and you have to put a stock buy order,\n",
        "# which is equal to 1% less than the current price of the stock.\n",
        "# Input : current stock price\n",
        "# Output : your buy order price\n",
        "\n"
      ],
      "metadata": {
        "id": "7yRoF5dKfBl4"
      },
      "execution_count": null,
      "outputs": []
    },
    {
      "cell_type": "code",
      "source": [
        "# Assume that you are building a AI agent, now we are writing a code for it.\n",
        "# I first go and fetch the youtube video script, if youtube video script contains\n",
        "# anything vulgar I would not take the next step. if no vulgarity in the script\n",
        "# I will publish the script as the post on Linkedin automatically."
      ],
      "metadata": {
        "id": "K76JhKTyfBgn"
      },
      "execution_count": null,
      "outputs": []
    },
    {
      "cell_type": "code",
      "source": [
        "# Assume you are making the portfolio calculator for trading app.\n",
        "# Here you asked the user to enter the price of each share (4 stock price)\n",
        "# You to tell which is the lowest performing stock\n",
        "\n",
        "pricelist = []\n",
        "for i in range(4):\n",
        "  price = int(input(\"Enter the stock price:: \"))\n",
        "  pricelist.append(price)\n",
        "print(min(pricelist))"
      ],
      "metadata": {
        "colab": {
          "base_uri": "https://localhost:8080/"
        },
        "id": "0q4nDPjwfBdT",
        "outputId": "89275aab-48cd-4963-bc52-e01265a61a2a"
      },
      "execution_count": 60,
      "outputs": [
        {
          "output_type": "stream",
          "name": "stdout",
          "text": [
            "Enter the stock price:: 1\n",
            "Enter the stock price:: 2\n",
            "Enter the stock price:: 3\n",
            "Enter the stock price:: 4\n",
            "1\n"
          ]
        }
      ]
    },
    {
      "cell_type": "code",
      "source": [],
      "metadata": {
        "id": "WLvq97vEfBW9"
      },
      "execution_count": null,
      "outputs": []
    }
  ]
}